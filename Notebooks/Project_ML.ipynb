{
 "cells": [
  {
   "cell_type": "code",
   "execution_count": 3,
   "metadata": {},
   "outputs": [],
   "source": [
    "import numpy as np\n",
    "import random\n",
    "import pandas as pd\n",
    "import matplotlib.pyplot as plt\n",
    "import matplotlib.colors as colors\n",
    "from sklearn.model_selection import train_test_split\n",
    "from sklearn.feature_extraction.text import CountVectorizer\n",
    "from sklearn.svm import SVC\n",
    "import pickle\n",
    "from sklearn.naive_bayes import MultinomialNB\n",
    "from sklearn.model_selection import train_test_split\n",
    "from sklearn.feature_extraction.text import TfidfVectorizer\n",
    "from sklearn.ensemble import RandomForestClassifier\n",
    "from sklearn.tree import DecisionTreeClassifier\n",
    "from sklearn.metrics import accuracy_score, confusion_matrix, classification_report\n",
    "from sklearn.model_selection import GridSearchCV\n",
    "import plotly.express as px"
   ]
  },
  {
   "cell_type": "code",
   "execution_count": 5,
   "metadata": {},
   "outputs": [],
   "source": [
    "def label_encoding(Dataframe:\"pd.core.frame.DataFrame\",column_name_list:list):\n",
    "    for column_name in column_name_list:    \n",
    "        unique_value_array=np.sort(Dataframe[column_name].unique())\n",
    "        for index,value in enumerate(unique_value_array):\n",
    "            Dataframe[column_name].replace(value,index,inplace=True)\n",
    "    return Dataframe\n",
    "def one_and_hot(Dataframe:\"pd.core.frame.DataFrame\",column_name_list:list):\n",
    "    for column_name in column_name_list:\n",
    "        for value in Dataframe[column_name].unique():\n",
    "            Dataframe[column_name+'='+value]=[True if x==value else False for x in Dataframe[column_name]]\n",
    "        Dataframe.drop(labels=[column_name],axis=1,inplace=True)\n",
    "    return Dataframe\n",
    "def confusion_matrix(y_true,y_pred):\n",
    "    '''\n",
    "    y_true: np.array of true labels\n",
    "    y_pred: np.array of prediction labels\n",
    "    returns a matrix of shape (2,2) in form [[TP,FP],\n",
    "                                             [FN,TN]]\n",
    "    '''\n",
    "    conf_matrix=np.zeros((2,2),dtype=int)\n",
    "    conf_matrix[0,0]=np.sum(np.logical_and(y_pred,y_true)) ##tp\n",
    "    conf_matrix[1,1]=np.sum(np.logical_and(np.logical_not(y_pred),np.logical_not(y_true))) ## tn\n",
    "    conf_matrix[0,1]=np.sum(np.where(y_pred-y_true>0,1,0)) ##fp\n",
    "    conf_matrix[1,0]=len(y_true)-np.sum(conf_matrix) #fn\n",
    "    return conf_matrix\n",
    "def summary_report(y_true,y_pred):\n",
    "    '''\n",
    "    y_true: binary array of actual classes\n",
    "    y_pred: binary array of predicted classes\n",
    "    returns: a dataframe containing the classification report\n",
    "    '''\n",
    "    confusion_mat=confusion_matrix(y_true,y_pred)\n",
    "    accuracy=np.sum(confusion_mat.diagonal())/np.sum(confusion_mat)\n",
    "    N=np.sum(confusion_mat)\n",
    "    count_1=sum(confusion_mat[:,0])\n",
    "    count_0=sum(confusion_mat[:,1])\n",
    "    support=[count_1,count_0,N,N,N]\n",
    "    precision_1=confusion_mat[0,0]/sum(confusion_mat[0])\n",
    "    precision_0=confusion_mat[1,1]/sum(confusion_mat[1])\n",
    "    recall_1=confusion_mat[0,0]/sum(confusion_mat[:,0])\n",
    "    recall_0=confusion_mat[1,1]/sum(confusion_mat[:,1])\n",
    "    f1_score_1=(2*precision_1*recall_1)/(precision_1+recall_1)\n",
    "    f1_score_0=(2*precision_0*recall_0)/(precision_0+recall_0)\n",
    "    f1_scores=[f1_score_1,f1_score_0,accuracy,np.average([f1_score_1,f1_score_0]),(f1_score_1*count_0+f1_score_0*count_1)/N]\n",
    "    precisions=[precision_1,precision_0,'',np.average([precision_0,precision_1]),(precision_0*count_0+precision_1*count_1)/N]\n",
    "    recalls=[recall_1,recall_0,'',np.average([recall_0,recall_1]),(recall_0*count_0+recall_1*count_1)/N]\n",
    "    return pd.DataFrame({\n",
    "            '':['1','0','accuracy','macro average','weighted average'],\n",
    "            'precision':precisions,\n",
    "            'recall':recalls,\n",
    "            'f1-score':f1_scores,\n",
    "            'support':support\n",
    "            })\n",
    "class CustomRandomForest:\n",
    "    def __init__(self, n_estimators=10, max_depth=None, random_state=None):\n",
    "        self.n_estimators = n_estimators\n",
    "        self.max_depth = max_depth\n",
    "        self.trees = []\n",
    "\n",
    "    def fit(self, X, y,features:int=None):\n",
    "        if(type(features))==type(None):\n",
    "            features=X.shape[0]\n",
    "        for _ in range(self.n_estimators):\n",
    "            tree = DecisionTreeClassifier(max_depth=self.max_depth)\n",
    "            indices=np.random.choice(X.shape[0],replace=True,size=X.shape[0])\n",
    "            features_1=random.randint(3,features)\n",
    "            column_indices=np.random.choice(X.shape[1],replace=False,size=features_1)\n",
    "            tree.fit(X[indices][:,column_indices], y.reshape(y.size,1)[indices])\n",
    "            self.trees.append((tree,column_indices))\n",
    "\n",
    "    def predict(self, X):\n",
    "        predictions = []\n",
    "        for tree,column_indices in self.trees:\n",
    "            predictions.append(tree.predict(X[:,column_indices]))\n",
    "        # Handle potential voting strategies (e.g., majority vote)\n",
    "        final_predictions = np.mean(predictions, axis=0).round()\n",
    "        return final_predictions\n",
    "class SVM:\n",
    "    def __init__(self,C=1.0) -> None:\n",
    "        self.C=C\n",
    "        self.w=0\n",
    "        self.b=0\n",
    "    def loss_function(self,X,Y): ##hingeloss\n",
    "        '''\n",
    "        Calculates the hingeloss\n",
    "        X: array of data points\n",
    "        Y: array of labels\n",
    "        '''\n",
    "        w=self.w\n",
    "        reg = 0.5 * (w * w)\n",
    "        ls=[]\n",
    "        for i in range(X.shape[0]):\n",
    "            # Optimization term\n",
    "            opt_term = Y[i] * ((np.dot(w, X[i])) + self.b)\n",
    "\n",
    "            # calculating loss\n",
    "            loss = reg + self.C * max(0, 1-opt_term)\n",
    "            ls.append(loss)\n",
    "        return np.sum(np.array(ls))\n",
    "        # regularizer=0.5*self.w*self.w\n",
    "        # print(regularizer)\n",
    "        # output=np.array([Y[i]*((np.dot(self.w,X[i])+self.b)) for i in range(X.shape[0])])\n",
    "        # loss=[regularizer+self.C*np.max(0,1-output_i) for output_i in output]\n",
    "        # return loss[0,0]\n",
    "    def fit(self,X,Y,batch_size:int=150,learning_rate:float=0.001,epochs:int=1000):\n",
    "        '''\n",
    "        Fits the classifier to the data. Uses stochastic gradient descent\n",
    "        X: array of data points\n",
    "        Y: array of labels\n",
    "        batch_size: size of batch for stochastic gradient descent\n",
    "        learning_rate: size of the change in weights and bias proportional to gradient per iteration\n",
    "        epochs: Number of iterations of updates made using a sample of size=batch_size\n",
    "        '''\n",
    "        num_samples,num_features=X.shape\n",
    "        if batch_size>num_samples:\n",
    "            batch_size=num_samples\n",
    "        sample_indices=np.random.choice(num_samples,size=num_samples,replace=False) ##shuffling the data for stochastic gradient descent\n",
    "        losses=[] ##list to keep track of losses every epoch\n",
    "        self.w=np.zeros((1,num_features))\n",
    "        self.b=0\n",
    "        for _ in range(epochs):\n",
    "            loss=self.loss_function(X,Y)\n",
    "            losses.append(loss)\n",
    "            for batch in range(0,num_samples,batch_size):\n",
    "                nabla_w=0   #gradient of w\n",
    "                nabla_b=0   #gradient of b\n",
    "                # for i in range(batch,min(batch+batch_size,num_samples)):\n",
    "                #     x=sample_indices[i]\n",
    "                #     dist=Y[x]*(np.dot(self.w,X[x].T)+self.b)\n",
    "                #     if dist<=1:\n",
    "                #         nabla_w+=self.C*Y[x]*X[x]\n",
    "                #         nabla_b+=self.C*Y[x]\n",
    "                # \n",
    "                x=sample_indices[[i for i in range(batch,max(batch+batch_size,num_samples))]]\n",
    "                dist=Y[x]*(np.dot(self.w,X[x].T)+self.b)\n",
    "                dist=np.where(dist<=1,1,0)\n",
    "                nabla_w=sum(dist*self.C*Y[x]@X[x])\n",
    "                nabla_b=np.sum(dist*self.C*Y[x])\n",
    "                #\n",
    "                self.w-=learning_rate*(self.w-nabla_w)\n",
    "                self.b+=learning_rate*nabla_b\n",
    "        self.losses=losses\n",
    "    def predict(self,X):\n",
    "        '''\n",
    "        X: datapoint/s to be predicted\n",
    "        returns 1 or -1 as a binary classifier\n",
    "        '''\n",
    "        return np.sign(np.dot(X,self.w[0])+self.b)"
   ]
  },
  {
   "cell_type": "markdown",
   "metadata": {},
   "source": [
    "Reading the data and making a balanced sample of 8000 sentences using it"
   ]
  },
  {
   "cell_type": "code",
   "execution_count": 4,
   "metadata": {},
   "outputs": [],
   "source": [
    "data=pd.read_csv(r'E:\\Current_Workspace\\Programming\\SVM\\IMDB Dataset.csv')\n",
    "data=label_encoding(data,column_name_list=['sentiment'])\n",
    "sample_size=8000\n",
    "data_1=data[data.sentiment==1].iloc[:sample_size//2]\n",
    "data_0=data[data.sentiment==0].iloc[:sample_size//2]\n",
    "data_new=pd.concat([data_0,data_1],axis=0)\n",
    "X=data_new.review\n",
    "y=data_new.sentiment\n",
    "X_train, X_test, y_train, y_test = train_test_split(data_new.review,data_new.sentiment, test_size=0.2, random_state=42)"
   ]
  },
  {
   "cell_type": "markdown",
   "metadata": {},
   "source": [
    "vectorizing the train and test data"
   ]
  },
  {
   "cell_type": "code",
   "execution_count": 5,
   "metadata": {},
   "outputs": [],
   "source": [
    "vectorizer=TfidfVectorizer()\n",
    "X_train=vectorizer.fit_transform(X_train)\n",
    "transformed_test=vectorizer.transform(X_test)\n",
    "X_test=vectorizer.transform(X_test)\n",
    "y_test=y_test.to_numpy()"
   ]
  },
  {
   "cell_type": "markdown",
   "metadata": {},
   "source": [
    "Storing the vectorizer"
   ]
  },
  {
   "cell_type": "code",
   "execution_count": 6,
   "metadata": {},
   "outputs": [],
   "source": [
    "# pickle.dump(vectorizer,open('vectorizer_tfid.pkl','wb'))"
   ]
  },
  {
   "cell_type": "markdown",
   "metadata": {},
   "source": [
    "# SVM"
   ]
  },
  {
   "cell_type": "code",
   "execution_count": 8,
   "metadata": {},
   "outputs": [
    {
     "name": "stdout",
     "output_type": "stream",
     "text": [
      "[[709 116]\n",
      " [ 87 688]]\n"
     ]
    },
    {
     "data": {
      "text/html": [
       "<style type=\"text/css\">\n",
       "</style>\n",
       "<table id=\"T_e45c1\">\n",
       "  <thead>\n",
       "    <tr>\n",
       "      <th id=\"T_e45c1_level0_col0\" class=\"col_heading level0 col0\" ></th>\n",
       "      <th id=\"T_e45c1_level0_col1\" class=\"col_heading level0 col1\" >precision</th>\n",
       "      <th id=\"T_e45c1_level0_col2\" class=\"col_heading level0 col2\" >recall</th>\n",
       "      <th id=\"T_e45c1_level0_col3\" class=\"col_heading level0 col3\" >f1-score</th>\n",
       "      <th id=\"T_e45c1_level0_col4\" class=\"col_heading level0 col4\" >support</th>\n",
       "    </tr>\n",
       "  </thead>\n",
       "  <tbody>\n",
       "    <tr>\n",
       "      <td id=\"T_e45c1_row0_col0\" class=\"data row0 col0\" >1</td>\n",
       "      <td id=\"T_e45c1_row0_col1\" class=\"data row0 col1\" >0.859394</td>\n",
       "      <td id=\"T_e45c1_row0_col2\" class=\"data row0 col2\" >0.890704</td>\n",
       "      <td id=\"T_e45c1_row0_col3\" class=\"data row0 col3\" >0.874769</td>\n",
       "      <td id=\"T_e45c1_row0_col4\" class=\"data row0 col4\" >796</td>\n",
       "    </tr>\n",
       "    <tr>\n",
       "      <td id=\"T_e45c1_row1_col0\" class=\"data row1 col0\" >0</td>\n",
       "      <td id=\"T_e45c1_row1_col1\" class=\"data row1 col1\" >0.887742</td>\n",
       "      <td id=\"T_e45c1_row1_col2\" class=\"data row1 col2\" >0.855721</td>\n",
       "      <td id=\"T_e45c1_row1_col3\" class=\"data row1 col3\" >0.871438</td>\n",
       "      <td id=\"T_e45c1_row1_col4\" class=\"data row1 col4\" >804</td>\n",
       "    </tr>\n",
       "    <tr>\n",
       "      <td id=\"T_e45c1_row2_col0\" class=\"data row2 col0\" >accuracy</td>\n",
       "      <td id=\"T_e45c1_row2_col1\" class=\"data row2 col1\" ></td>\n",
       "      <td id=\"T_e45c1_row2_col2\" class=\"data row2 col2\" ></td>\n",
       "      <td id=\"T_e45c1_row2_col3\" class=\"data row2 col3\" >0.873125</td>\n",
       "      <td id=\"T_e45c1_row2_col4\" class=\"data row2 col4\" >1600</td>\n",
       "    </tr>\n",
       "    <tr>\n",
       "      <td id=\"T_e45c1_row3_col0\" class=\"data row3 col0\" >macro average</td>\n",
       "      <td id=\"T_e45c1_row3_col1\" class=\"data row3 col1\" >0.873568</td>\n",
       "      <td id=\"T_e45c1_row3_col2\" class=\"data row3 col2\" >0.873212</td>\n",
       "      <td id=\"T_e45c1_row3_col3\" class=\"data row3 col3\" >0.873103</td>\n",
       "      <td id=\"T_e45c1_row3_col4\" class=\"data row3 col4\" >1600</td>\n",
       "    </tr>\n",
       "    <tr>\n",
       "      <td id=\"T_e45c1_row4_col0\" class=\"data row4 col0\" >weighted average</td>\n",
       "      <td id=\"T_e45c1_row4_col1\" class=\"data row4 col1\" >0.873639</td>\n",
       "      <td id=\"T_e45c1_row4_col2\" class=\"data row4 col2\" >0.873125</td>\n",
       "      <td id=\"T_e45c1_row4_col3\" class=\"data row4 col3\" >0.873111</td>\n",
       "      <td id=\"T_e45c1_row4_col4\" class=\"data row4 col4\" >1600</td>\n",
       "    </tr>\n",
       "  </tbody>\n",
       "</table>\n"
      ],
      "text/plain": [
       "<pandas.io.formats.style.Styler at 0x1dd7b00d910>"
      ]
     },
     "execution_count": 8,
     "metadata": {},
     "output_type": "execute_result"
    }
   ],
   "source": [
    "text_classifier=SVC(C=2.15,kernel='rbf')\n",
    "text_classifier.fit(X=X_train,y=y_train)\n",
    "# vectorizer=pickle.load(open(r'E:\\Current_Workspace\\Programming\\SVM\\Pickle\\Main Models\\vectorizer_tfid.pkl','rb'))\n",
    "# text_classifier=pickle.load(open(r'C:\\Users\\admin\\Documents\\Current_Workspace\\Programming\\SVM\\classifier_SVM.pkl','rb'))\n",
    "y_pred=text_classifier.predict(X_test)\n",
    "print(confusion_matrix(y_test,y_pred))\n",
    "summary_report(y_test,y_pred).style.hide()"
   ]
  },
  {
   "cell_type": "code",
   "execution_count": null,
   "metadata": {},
   "outputs": [],
   "source": [
    "# saving the model\n",
    "# pickle.dump(text_classifier,open('classifier_SVM.pkl','wb'))\n",
    "# Grid search CV\n",
    "# search_space={'C':np.arange(0.5,3,0.1),\n",
    "            #   'kernel':['linear','rbf'],}\n",
    "# GS=GridSearchCV(estimator=SVC(),\n",
    "#                 param_grid=search_space,\n",
    "#                 scoring='accuracy',\n",
    "#                 cv=5,\n",
    "#                 n_jobs=8)\n",
    "# GS.fit(X_train,y_train)\n",
    "# GS.best_estimator_.get_params()\n",
    "# best_SVM=GS.best_estimator_"
   ]
  },
  {
   "cell_type": "markdown",
   "metadata": {},
   "source": [
    "# Naive Bayes"
   ]
  },
  {
   "cell_type": "code",
   "execution_count": 9,
   "metadata": {},
   "outputs": [
    {
     "name": "stdout",
     "output_type": "stream",
     "text": [
      "[[628  76]\n",
      " [168 728]]\n"
     ]
    },
    {
     "data": {
      "text/html": [
       "<style type=\"text/css\">\n",
       "</style>\n",
       "<table id=\"T_cd857\">\n",
       "  <thead>\n",
       "    <tr>\n",
       "      <th id=\"T_cd857_level0_col0\" class=\"col_heading level0 col0\" ></th>\n",
       "      <th id=\"T_cd857_level0_col1\" class=\"col_heading level0 col1\" >precision</th>\n",
       "      <th id=\"T_cd857_level0_col2\" class=\"col_heading level0 col2\" >recall</th>\n",
       "      <th id=\"T_cd857_level0_col3\" class=\"col_heading level0 col3\" >f1-score</th>\n",
       "      <th id=\"T_cd857_level0_col4\" class=\"col_heading level0 col4\" >support</th>\n",
       "    </tr>\n",
       "  </thead>\n",
       "  <tbody>\n",
       "    <tr>\n",
       "      <td id=\"T_cd857_row0_col0\" class=\"data row0 col0\" >1</td>\n",
       "      <td id=\"T_cd857_row0_col1\" class=\"data row0 col1\" >0.892045</td>\n",
       "      <td id=\"T_cd857_row0_col2\" class=\"data row0 col2\" >0.788945</td>\n",
       "      <td id=\"T_cd857_row0_col3\" class=\"data row0 col3\" >0.837333</td>\n",
       "      <td id=\"T_cd857_row0_col4\" class=\"data row0 col4\" >796</td>\n",
       "    </tr>\n",
       "    <tr>\n",
       "      <td id=\"T_cd857_row1_col0\" class=\"data row1 col0\" >0</td>\n",
       "      <td id=\"T_cd857_row1_col1\" class=\"data row1 col1\" >0.812500</td>\n",
       "      <td id=\"T_cd857_row1_col2\" class=\"data row1 col2\" >0.905473</td>\n",
       "      <td id=\"T_cd857_row1_col3\" class=\"data row1 col3\" >0.856471</td>\n",
       "      <td id=\"T_cd857_row1_col4\" class=\"data row1 col4\" >804</td>\n",
       "    </tr>\n",
       "    <tr>\n",
       "      <td id=\"T_cd857_row2_col0\" class=\"data row2 col0\" >accuracy</td>\n",
       "      <td id=\"T_cd857_row2_col1\" class=\"data row2 col1\" ></td>\n",
       "      <td id=\"T_cd857_row2_col2\" class=\"data row2 col2\" ></td>\n",
       "      <td id=\"T_cd857_row2_col3\" class=\"data row2 col3\" >0.847500</td>\n",
       "      <td id=\"T_cd857_row2_col4\" class=\"data row2 col4\" >1600</td>\n",
       "    </tr>\n",
       "    <tr>\n",
       "      <td id=\"T_cd857_row3_col0\" class=\"data row3 col0\" >macro average</td>\n",
       "      <td id=\"T_cd857_row3_col1\" class=\"data row3 col1\" >0.852273</td>\n",
       "      <td id=\"T_cd857_row3_col2\" class=\"data row3 col2\" >0.847209</td>\n",
       "      <td id=\"T_cd857_row3_col3\" class=\"data row3 col3\" >0.846902</td>\n",
       "      <td id=\"T_cd857_row3_col4\" class=\"data row3 col4\" >1600</td>\n",
       "    </tr>\n",
       "    <tr>\n",
       "      <td id=\"T_cd857_row4_col0\" class=\"data row4 col0\" >weighted average</td>\n",
       "      <td id=\"T_cd857_row4_col1\" class=\"data row4 col1\" >0.852074</td>\n",
       "      <td id=\"T_cd857_row4_col2\" class=\"data row4 col2\" >0.847500</td>\n",
       "      <td id=\"T_cd857_row4_col3\" class=\"data row4 col3\" >0.846854</td>\n",
       "      <td id=\"T_cd857_row4_col4\" class=\"data row4 col4\" >1600</td>\n",
       "    </tr>\n",
       "  </tbody>\n",
       "</table>\n"
      ],
      "text/plain": [
       "<pandas.io.formats.style.Styler at 0x1dd66268810>"
      ]
     },
     "execution_count": 9,
     "metadata": {},
     "output_type": "execute_result"
    }
   ],
   "source": [
    "naive_bayes = MultinomialNB(alpha=1.17)\n",
    "naive_bayes.fit(X_train, y_train)\n",
    "y_pred = naive_bayes.predict(X_test)\n",
    "print(confusion_matrix(y_test,y_pred))\n",
    "summary_report(y_test,y_pred).style.hide()"
   ]
  },
  {
   "cell_type": "code",
   "execution_count": 13,
   "metadata": {},
   "outputs": [],
   "source": [
    "# saving model\n",
    "# pickle.dump(naive_bayes,open('classifier_NaiveBayes.pkl','wb'))\n",
    "# search_space={'alpha':np.arange(0.1,10,0.01)}\n",
    "# GS=GridSearchCV(estimator=SVC(),\n",
    "#                 param_grid=search_space,\n",
    "#                 scoring='accuracy',\n",
    "#                 cv=5,\n",
    "#                 n_jobs=8)\n",
    "# GS.fit(X_train,y_train)\n",
    "# GS.best_estimator_.get_params()\n",
    "# best_NB=GS.best_estimator_"
   ]
  },
  {
   "cell_type": "markdown",
   "metadata": {},
   "source": [
    "# Random Forest Built In"
   ]
  },
  {
   "cell_type": "code",
   "execution_count": 10,
   "metadata": {},
   "outputs": [
    {
     "name": "stdout",
     "output_type": "stream",
     "text": [
      "[[659 142]\n",
      " [137 662]]\n"
     ]
    },
    {
     "data": {
      "text/html": [
       "<style type=\"text/css\">\n",
       "</style>\n",
       "<table id=\"T_768f1\">\n",
       "  <thead>\n",
       "    <tr>\n",
       "      <th id=\"T_768f1_level0_col0\" class=\"col_heading level0 col0\" ></th>\n",
       "      <th id=\"T_768f1_level0_col1\" class=\"col_heading level0 col1\" >precision</th>\n",
       "      <th id=\"T_768f1_level0_col2\" class=\"col_heading level0 col2\" >recall</th>\n",
       "      <th id=\"T_768f1_level0_col3\" class=\"col_heading level0 col3\" >f1-score</th>\n",
       "      <th id=\"T_768f1_level0_col4\" class=\"col_heading level0 col4\" >support</th>\n",
       "    </tr>\n",
       "  </thead>\n",
       "  <tbody>\n",
       "    <tr>\n",
       "      <td id=\"T_768f1_row0_col0\" class=\"data row0 col0\" >1</td>\n",
       "      <td id=\"T_768f1_row0_col1\" class=\"data row0 col1\" >0.822722</td>\n",
       "      <td id=\"T_768f1_row0_col2\" class=\"data row0 col2\" >0.827889</td>\n",
       "      <td id=\"T_768f1_row0_col3\" class=\"data row0 col3\" >0.825297</td>\n",
       "      <td id=\"T_768f1_row0_col4\" class=\"data row0 col4\" >796</td>\n",
       "    </tr>\n",
       "    <tr>\n",
       "      <td id=\"T_768f1_row1_col0\" class=\"data row1 col0\" >0</td>\n",
       "      <td id=\"T_768f1_row1_col1\" class=\"data row1 col1\" >0.828536</td>\n",
       "      <td id=\"T_768f1_row1_col2\" class=\"data row1 col2\" >0.823383</td>\n",
       "      <td id=\"T_768f1_row1_col3\" class=\"data row1 col3\" >0.825951</td>\n",
       "      <td id=\"T_768f1_row1_col4\" class=\"data row1 col4\" >804</td>\n",
       "    </tr>\n",
       "    <tr>\n",
       "      <td id=\"T_768f1_row2_col0\" class=\"data row2 col0\" >accuracy</td>\n",
       "      <td id=\"T_768f1_row2_col1\" class=\"data row2 col1\" ></td>\n",
       "      <td id=\"T_768f1_row2_col2\" class=\"data row2 col2\" ></td>\n",
       "      <td id=\"T_768f1_row2_col3\" class=\"data row2 col3\" >0.825625</td>\n",
       "      <td id=\"T_768f1_row2_col4\" class=\"data row2 col4\" >1600</td>\n",
       "    </tr>\n",
       "    <tr>\n",
       "      <td id=\"T_768f1_row3_col0\" class=\"data row3 col0\" >macro average</td>\n",
       "      <td id=\"T_768f1_row3_col1\" class=\"data row3 col1\" >0.825629</td>\n",
       "      <td id=\"T_768f1_row3_col2\" class=\"data row3 col2\" >0.825636</td>\n",
       "      <td id=\"T_768f1_row3_col3\" class=\"data row3 col3\" >0.825624</td>\n",
       "      <td id=\"T_768f1_row3_col4\" class=\"data row3 col4\" >1600</td>\n",
       "    </tr>\n",
       "    <tr>\n",
       "      <td id=\"T_768f1_row4_col0\" class=\"data row4 col0\" >weighted average</td>\n",
       "      <td id=\"T_768f1_row4_col1\" class=\"data row4 col1\" >0.825643</td>\n",
       "      <td id=\"T_768f1_row4_col2\" class=\"data row4 col2\" >0.825625</td>\n",
       "      <td id=\"T_768f1_row4_col3\" class=\"data row4 col3\" >0.825623</td>\n",
       "      <td id=\"T_768f1_row4_col4\" class=\"data row4 col4\" >1600</td>\n",
       "    </tr>\n",
       "  </tbody>\n",
       "</table>\n"
      ],
      "text/plain": [
       "<pandas.io.formats.style.Styler at 0x1dd7b006750>"
      ]
     },
     "execution_count": 10,
     "metadata": {},
     "output_type": "execute_result"
    }
   ],
   "source": [
    "rf=RandomForestClassifier()\n",
    "rf = RandomForestClassifier(n_estimators=130, random_state=42,max_depth=17)\n",
    "rf.fit(X_train, y_train)\n",
    "y_pred = rf.predict(X_test)\n",
    "print(confusion_matrix(y_test,y_pred))\n",
    "summary_report(y_test,y_pred).style.hide()"
   ]
  },
  {
   "cell_type": "code",
   "execution_count": 14,
   "metadata": {},
   "outputs": [],
   "source": [
    "# saving model\n",
    "# pickle.dump(rf,open('classifier_RandomForestBuiltIn.pkl','wb'))\n",
    "# search_space={'n_estimators':np.array(range(50,150,10)),\n",
    "#               'random_state':[42],\n",
    "#               'max_depth':np.concatenate([[-1],range(2,21)]),\n",
    "#               'criterion':['gini','entropy']}\n",
    "# GS=GridSearchCV(estimator=RandomForestClassifier(),\n",
    "#                 param_grid=search_space,\n",
    "#                 scoring='accuracy',\n",
    "#                 cv=5,\n",
    "#                 n_jobs=6\n",
    "#                 )\n",
    "# GS.fit(X_train,y_train)\n",
    "# GS.best_estimator_.get_params()\n",
    "# best_RF=GS.best_estimator_\n"
   ]
  },
  {
   "cell_type": "markdown",
   "metadata": {},
   "source": [
    "# Custom Random Forest"
   ]
  },
  {
   "cell_type": "code",
   "execution_count": 11,
   "metadata": {},
   "outputs": [
    {
     "name": "stdout",
     "output_type": "stream",
     "text": [
      "[[634 166]\n",
      " [162 638]]\n"
     ]
    },
    {
     "data": {
      "text/html": [
       "<style type=\"text/css\">\n",
       "</style>\n",
       "<table id=\"T_7a9b3\">\n",
       "  <thead>\n",
       "    <tr>\n",
       "      <th id=\"T_7a9b3_level0_col0\" class=\"col_heading level0 col0\" ></th>\n",
       "      <th id=\"T_7a9b3_level0_col1\" class=\"col_heading level0 col1\" >precision</th>\n",
       "      <th id=\"T_7a9b3_level0_col2\" class=\"col_heading level0 col2\" >recall</th>\n",
       "      <th id=\"T_7a9b3_level0_col3\" class=\"col_heading level0 col3\" >f1-score</th>\n",
       "      <th id=\"T_7a9b3_level0_col4\" class=\"col_heading level0 col4\" >support</th>\n",
       "    </tr>\n",
       "  </thead>\n",
       "  <tbody>\n",
       "    <tr>\n",
       "      <td id=\"T_7a9b3_row0_col0\" class=\"data row0 col0\" >1</td>\n",
       "      <td id=\"T_7a9b3_row0_col1\" class=\"data row0 col1\" >0.792500</td>\n",
       "      <td id=\"T_7a9b3_row0_col2\" class=\"data row0 col2\" >0.796482</td>\n",
       "      <td id=\"T_7a9b3_row0_col3\" class=\"data row0 col3\" >0.794486</td>\n",
       "      <td id=\"T_7a9b3_row0_col4\" class=\"data row0 col4\" >796</td>\n",
       "    </tr>\n",
       "    <tr>\n",
       "      <td id=\"T_7a9b3_row1_col0\" class=\"data row1 col0\" >0</td>\n",
       "      <td id=\"T_7a9b3_row1_col1\" class=\"data row1 col1\" >0.797500</td>\n",
       "      <td id=\"T_7a9b3_row1_col2\" class=\"data row1 col2\" >0.793532</td>\n",
       "      <td id=\"T_7a9b3_row1_col3\" class=\"data row1 col3\" >0.795511</td>\n",
       "      <td id=\"T_7a9b3_row1_col4\" class=\"data row1 col4\" >804</td>\n",
       "    </tr>\n",
       "    <tr>\n",
       "      <td id=\"T_7a9b3_row2_col0\" class=\"data row2 col0\" >accuracy</td>\n",
       "      <td id=\"T_7a9b3_row2_col1\" class=\"data row2 col1\" ></td>\n",
       "      <td id=\"T_7a9b3_row2_col2\" class=\"data row2 col2\" ></td>\n",
       "      <td id=\"T_7a9b3_row2_col3\" class=\"data row2 col3\" >0.795000</td>\n",
       "      <td id=\"T_7a9b3_row2_col4\" class=\"data row2 col4\" >1600</td>\n",
       "    </tr>\n",
       "    <tr>\n",
       "      <td id=\"T_7a9b3_row3_col0\" class=\"data row3 col0\" >macro average</td>\n",
       "      <td id=\"T_7a9b3_row3_col1\" class=\"data row3 col1\" >0.795000</td>\n",
       "      <td id=\"T_7a9b3_row3_col2\" class=\"data row3 col2\" >0.795007</td>\n",
       "      <td id=\"T_7a9b3_row3_col3\" class=\"data row3 col3\" >0.794999</td>\n",
       "      <td id=\"T_7a9b3_row3_col4\" class=\"data row3 col4\" >1600</td>\n",
       "    </tr>\n",
       "    <tr>\n",
       "      <td id=\"T_7a9b3_row4_col0\" class=\"data row4 col0\" >weighted average</td>\n",
       "      <td id=\"T_7a9b3_row4_col1\" class=\"data row4 col1\" >0.795013</td>\n",
       "      <td id=\"T_7a9b3_row4_col2\" class=\"data row4 col2\" >0.795000</td>\n",
       "      <td id=\"T_7a9b3_row4_col3\" class=\"data row4 col3\" >0.794996</td>\n",
       "      <td id=\"T_7a9b3_row4_col4\" class=\"data row4 col4\" >1600</td>\n",
       "    </tr>\n",
       "  </tbody>\n",
       "</table>\n"
      ],
      "text/plain": [
       "<pandas.io.formats.style.Styler at 0x1dd7b0bb3d0>"
      ]
     },
     "execution_count": 11,
     "metadata": {},
     "output_type": "execute_result"
    }
   ],
   "source": [
    "y_train=y_train.to_numpy()\n",
    "custrf=CustomRandomForest(130)\n",
    "custrf.fit(X_train, y_train)\n",
    "y_pred=custrf.predict(X_test)\n",
    "print(confusion_matrix(y_test,y_pred))\n",
    "summary_report(y_test,y_pred).style.hide()"
   ]
  },
  {
   "cell_type": "markdown",
   "metadata": {},
   "source": [
    "# Custom test input"
   ]
  },
  {
   "cell_type": "code",
   "execution_count": 12,
   "metadata": {},
   "outputs": [
    {
     "name": "stdout",
     "output_type": "stream",
     "text": [
      "The review was negative\n"
     ]
    }
   ],
   "source": [
    "review='The movie was uninteresting'\n",
    "# review='This movie was not interesting. It could have been more entertaining. This was a total waste of time.'\n",
    "# review='This movie was interesting. It was fun.'\n",
    "print(f'The review was {\"positive\" if (text_classifier.predict(vectorizer.transform([review].__iter__()))) else \"negative\"}')"
   ]
  },
  {
   "cell_type": "markdown",
   "metadata": {},
   "source": [
    "### Demonstration of self built SVM code"
   ]
  },
  {
   "cell_type": "code",
   "execution_count": 21,
   "metadata": {},
   "outputs": [
    {
     "data": {
      "image/png": "[encoded data removed]",
      "text/plain": [
       "<Figure size 640x480 with 1 Axes>"
      ]
     },
     "metadata": {},
     "output_type": "display_data"
    }
   ],
   "source": [
    "from sklearn import datasets\n",
    "import matplotlib.pyplot as plt\n",
    "import numpy as np\n",
    "from sklearn.metrics import accuracy_score\n",
    "from sklearn.model_selection import train_test_split\n",
    "\n",
    "# Creating dataset\n",
    "X, y = datasets.make_blobs(\n",
    "\n",
    "        n_samples = 100, # Number of samples\n",
    "        n_features = 2, # Features\n",
    "        centers = 2,\n",
    "        cluster_std = 1,\n",
    "        random_state=40\n",
    "    )\n",
    "\n",
    "# Classes 1 and -1\n",
    "y = np.where(y == 0, -1, 1)\n",
    "plt.scatter(X[:, 0], X[:, 1], c=y)\n",
    "X_train, X_test, y_train, y_test = train_test_split(X, y, test_size=0.3, random_state=42)\n",
    "svm=SVM(C=5)\n",
    "svm.fit(X_train,y_train,epochs=2000)\n",
    "prediction = svm.predict(X_test)\n",
    "lss = svm.losses.pop()\n",
    "w,b=svm.w,svm.b"
   ]
  },
  {
   "cell_type": "code",
   "execution_count": 22,
   "metadata": {},
   "outputs": [
    {
     "data": {
      "text/plain": [
       "[<matplotlib.lines.Line2D at 0x17ab8719490>]"
      ]
     },
     "execution_count": 22,
     "metadata": {},
     "output_type": "execute_result"
    },
    {
     "data": {
      "image/png": "[encoded data removed]",
      "text/plain": [
       "<Figure size 640x480 with 1 Axes>"
      ]
     },
     "metadata": {},
     "output_type": "display_data"
    }
   ],
   "source": [
    "plt.plot(svm.losses)"
   ]
  },
  {
   "cell_type": "code",
   "execution_count": 23,
   "metadata": {},
   "outputs": [
    {
     "data": {
      "image/png": "[encoded data removed]",
      "text/plain": [
       "<Figure size 640x480 with 1 Axes>"
      ]
     },
     "metadata": {},
     "output_type": "display_data"
    },
    {
     "data": {
      "image/png": "[encoded data removed]",
      "text/plain": [
       "<Figure size 640x480 with 1 Axes>"
      ]
     },
     "metadata": {},
     "output_type": "display_data"
    }
   ],
   "source": [
    "def visualize_dataset(X,y):\n",
    "    '''\n",
    "    X: 2D array of datapoints\n",
    "    y: 1D array of labels \n",
    "    '''\n",
    "    plt.scatter(X[:, 0], X[:, 1], c=y)\n",
    "\n",
    "\n",
    "# Visualizing SVM\n",
    "def visualize_svm(X,y,svm:SVM):\n",
    "    def get_hyperplane_value(x, w, b, offset):\n",
    "        return (-w[0][0] * x + b + offset) / w[0][1]\n",
    "\n",
    "    fig = plt.figure()\n",
    "    ax = fig.add_subplot(1,1,1)\n",
    "    plt.scatter(X[:, 0], X[:, 1], marker=\"o\", c=y)\n",
    "\n",
    "    x0_1 = np.amin(X[:, 0])\n",
    "    x0_2 = np.amax(X[:, 0])\n",
    "\n",
    "    x1_1 = get_hyperplane_value(x0_1, svm.w, svm.b, 0)\n",
    "    x1_2 = get_hyperplane_value(x0_2, svm.w, svm.b, 0)\n",
    "\n",
    "    x1_1_m = get_hyperplane_value(x0_1, svm.w, svm.b, -1)\n",
    "    x1_2_m = get_hyperplane_value(x0_2, svm.w, svm.b, -1)\n",
    "\n",
    "    x1_1_p = get_hyperplane_value(x0_1, svm.w, svm.b, 1)\n",
    "    x1_2_p = get_hyperplane_value(x0_2, svm.w, svm.b, 1)\n",
    "\n",
    "    ax.plot([x0_1, x0_2], [x1_1, x1_2], \"k\")\n",
    "    ax.plot([x0_1, x0_2], [x1_1_m, x1_2_m], \"b--\")\n",
    "    ax.plot([x0_1, x0_2], [x1_1_p, x1_2_p], \"b--\")\n",
    "\n",
    "    x1_min = np.amin(X[:, 1])\n",
    "    x1_max = np.amax(X[:, 1])\n",
    "    ax.set_ylim([x1_min - 3, x1_max + 3])\n",
    "\n",
    "    plt.show()\n",
    "\n",
    "\n",
    "visualize_dataset(X,y)\n",
    "visualize_svm(X,y,svm)"
   ]
  }
 ],
 "metadata": {
  "kernelspec": {
   "display_name": "base",
   "language": "python",
   "name": "python3"
  },
  "language_info": {
   "codemirror_mode": {
    "name": "ipython",
    "version": 3
   },
   "file_extension": ".py",
   "mimetype": "text/x-python",
   "name": "python",
   "nbconvert_exporter": "python",
   "pygments_lexer": "ipython3",
   "version": "3.11.7"
  }
 },
 "nbformat": 4,
 "nbformat_minor": 2
}
