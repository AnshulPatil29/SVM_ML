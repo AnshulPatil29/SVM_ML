{
 "cells": [
  {
   "cell_type": "code",
   "execution_count": 130,
   "metadata": {},
   "outputs": [],
   "source": [
    "import numpy as np\n",
    "import random\n",
    "import pandas as pd\n",
    "import matplotlib.pyplot as plt\n",
    "import matplotlib.colors as colors\n",
    "from sklearn.model_selection import train_test_split\n",
    "from sklearn.feature_extraction.text import CountVectorizer\n",
    "from sklearn.svm import SVC\n",
    "import pickle\n",
    "from sklearn.naive_bayes import MultinomialNB\n",
    "from sklearn.model_selection import train_test_split\n",
    "from sklearn.feature_extraction.text import TfidfVectorizer\n",
    "from sklearn.ensemble import RandomForestClassifier\n",
    "from sklearn.tree import DecisionTreeClassifier\n",
    "from sklearn.metrics import accuracy_score, confusion_matrix, classification_report\n",
    "from sklearn.model_selection import GridSearchCV"
   ]
  },
  {
   "cell_type": "code",
   "execution_count": 131,
   "metadata": {},
   "outputs": [],
   "source": [
    "def label_encoding(Dataframe:\"pd.core.frame.DataFrame\",column_name_list:list):\n",
    "    for column_name in column_name_list:    \n",
    "        unique_value_array=np.sort(Dataframe[column_name].unique())\n",
    "        for index,value in enumerate(unique_value_array):\n",
    "            Dataframe[column_name].replace(value,index,inplace=True)\n",
    "    return Dataframe\n",
    "def one_and_hot(Dataframe:\"pd.core.frame.DataFrame\",column_name_list:list):\n",
    "    for column_name in column_name_list:\n",
    "        for value in Dataframe[column_name].unique():\n",
    "            Dataframe[column_name+'='+value]=[True if x==value else False for x in Dataframe[column_name]]\n",
    "        Dataframe.drop(labels=[column_name],axis=1,inplace=True)\n",
    "    return Dataframe\n",
    "def confusion_matrix(y_true,y_pred):\n",
    "    '''\n",
    "    y_true: np.array of true labels\n",
    "    y_pred: np.array of prediction labels\n",
    "    returns a matrix of shape (2,2) in form [[TP,FP],\n",
    "                                             [FN,TN]]\n",
    "    '''\n",
    "    conf_matrix=np.zeros((2,2),dtype=int)\n",
    "    conf_matrix[0,0]=np.sum(np.logical_and(y_pred,y_true)) ##tp\n",
    "    conf_matrix[1,1]=np.sum(np.logical_and(np.logical_not(y_pred),np.logical_not(y_true))) ## tn\n",
    "    conf_matrix[0,1]=np.sum(np.where(y_pred-y_true>0,1,0)) ##fp\n",
    "    conf_matrix[1,0]=len(y_true)-np.sum(conf_matrix) #fn\n",
    "    return conf_matrix\n",
    "def summary_report(y_true,y_pred):\n",
    "    '''\n",
    "    y_true: binary array of actual classes\n",
    "    y_pred: binary array of predicted classes\n",
    "    returns: a dataframe containing the classification report\n",
    "    '''\n",
    "    confusion_mat=confusion_matrix(y_true,y_pred)\n",
    "    accuracy=np.sum(confusion_mat.diagonal())/np.sum(confusion_mat)\n",
    "    N=np.sum(confusion_mat)\n",
    "    count_1=sum(confusion_mat[:,0])\n",
    "    count_0=sum(confusion_mat[:,1])\n",
    "    support=[count_1,count_0,N,N,N]\n",
    "    precision_1=confusion_mat[0,0]/sum(confusion_mat[0])\n",
    "    precision_0=confusion_mat[1,1]/sum(confusion_mat[1])\n",
    "    recall_1=confusion_mat[0,0]/sum(confusion_mat[:,0])\n",
    "    recall_0=confusion_mat[1,1]/sum(confusion_mat[:,1])\n",
    "    f1_score_1=(2*precision_1*recall_1)/(precision_1+recall_1)\n",
    "    f1_score_0=(2*precision_0*recall_0)/(precision_0+recall_0)\n",
    "    f1_scores=[f1_score_1,f1_score_0,accuracy,np.average([f1_score_1,f1_score_0]),(f1_score_1*count_0+f1_score_0*count_1)/N]\n",
    "    precisions=[precision_1,precision_0,'',np.average([precision_0,precision_1]),(precision_0*count_0+precision_1*count_1)/N]\n",
    "    recalls=[recall_1,recall_0,'',np.average([recall_0,recall_1]),(recall_0*count_0+recall_1*count_1)/N]\n",
    "    return pd.DataFrame({\n",
    "            '':['1','0','accuracy','macro average','weighted average'],\n",
    "            'precision':precisions,\n",
    "            'recall':recalls,\n",
    "            'f1-score':f1_scores,\n",
    "            'support':support\n",
    "            })\n",
    "class CustomRandomForest:\n",
    "    def __init__(self, n_estimators=10, max_depth=None, random_state=None):\n",
    "        self.n_estimators = n_estimators\n",
    "        self.max_depth = max_depth\n",
    "        self.trees = []\n",
    "\n",
    "    def fit(self, X, y,features:int=None):\n",
    "        if(type(features))==type(None):\n",
    "            features=X.shape[0]\n",
    "        for _ in range(self.n_estimators):\n",
    "            tree = DecisionTreeClassifier(max_depth=self.max_depth)\n",
    "            indices=np.random.choice(X.shape[0],replace=True,size=X.shape[0])\n",
    "            features_1=random.randint(3,features)\n",
    "            column_indices=np.random.choice(X.shape[1],replace=False,size=features_1)\n",
    "            tree.fit(X[indices][:,column_indices], y.reshape(y.size,1)[indices])\n",
    "            self.trees.append((tree,column_indices))\n",
    "\n",
    "    def predict(self, X):\n",
    "        predictions = []\n",
    "        for tree,column_indices in self.trees:\n",
    "            predictions.append(tree.predict(X[:,column_indices]))\n",
    "        # Handle potential voting strategies (e.g., majority vote)\n",
    "        final_predictions = np.mean(predictions, axis=0).round()\n",
    "        return final_predictions"
   ]
  },
  {
   "cell_type": "code",
   "execution_count": 119,
   "metadata": {},
   "outputs": [],
   "source": [
    "data=pd.read_csv(r'E:\\Current_Workspace\\Programming\\SVM\\IMDB Dataset.csv')\n",
    "data=label_encoding(data,column_name_list=['sentiment'])\n",
    "sample_size=8000\n",
    "data_1=data[data.sentiment==1].iloc[:sample_size//2]\n",
    "data_0=data[data.sentiment==0].iloc[:sample_size//2]\n",
    "data_new=pd.concat([data_0,data_1],axis=0)\n",
    "X=data_new.review\n",
    "y=data_new.sentiment\n",
    "X_train, X_test, y_train, y_test = train_test_split(data_new.review,data_new.sentiment, test_size=0.2, random_state=42)"
   ]
  },
  {
   "cell_type": "markdown",
   "metadata": {},
   "source": [
    "vectorizing the train and test data"
   ]
  },
  {
   "cell_type": "code",
   "execution_count": 120,
   "metadata": {},
   "outputs": [],
   "source": [
    "vectorizer=TfidfVectorizer()\n",
    "X_train=vectorizer.fit_transform(X_train)\n",
    "transformed_test=vectorizer.transform(X_test)\n",
    "X_test=vectorizer.transform(X_test)\n",
    "y_test=y_test.to_numpy()"
   ]
  },
  {
   "cell_type": "markdown",
   "metadata": {},
   "source": [
    "Storing the vectorizer"
   ]
  },
  {
   "cell_type": "code",
   "execution_count": 5,
   "metadata": {},
   "outputs": [],
   "source": [
    "# pickle.dump(vectorizer,open('vectorizer_tfid.pkl','wb'))"
   ]
  },
  {
   "cell_type": "markdown",
   "metadata": {},
   "source": [
    "# SVM"
   ]
  },
  {
   "cell_type": "code",
   "execution_count": 6,
   "metadata": {},
   "outputs": [],
   "source": [
    "import sklearn.metrics"
   ]
  },
  {
   "cell_type": "code",
   "execution_count": 121,
   "metadata": {},
   "outputs": [],
   "source": [
    "text_classifier=SVC(C=2.15,kernel='rbf')\n",
    "text_classifier.fit(X=X_train,y=y_train)\n",
    "# vectorizer=pickle.load(open(r'E:\\Current_Workspace\\Programming\\SVM\\Pickle\\Main Models\\vectorizer_tfid.pkl','rb'))\n",
    "# text_classifier=pickle.load(open(r'E:\\Current_Workspace\\Programming\\SVM\\Pickle\\Main Models\\classifier_SVM.pkl','rb'))\n",
    "y_pred=text_classifier.predict(X_test)"
   ]
  },
  {
   "cell_type": "code",
   "execution_count": 50,
   "metadata": {},
   "outputs": [],
   "source": [
    "search_space={'C':[2.15,1],\n",
    "              'kernel':['linear','rbf'],}"
   ]
  },
  {
   "cell_type": "code",
   "execution_count": 51,
   "metadata": {},
   "outputs": [],
   "source": [
    "GS=GridSearchCV(estimator=SVC(),\n",
    "                param_grid=search_space,\n",
    "                scoring='accuracy',\n",
    "                cv=5,\n",
    "                n_jobs=8)"
   ]
  },
  {
   "cell_type": "code",
   "execution_count": 52,
   "metadata": {},
   "outputs": [
    {
     "data": {
      "text/html": [
       "<style>#sk-container-id-6 {color: black;background-color: white;}#sk-container-id-6 pre{padding: 0;}#sk-container-id-6 div.sk-toggleable {background-color: white;}#sk-container-id-6 label.sk-toggleable__label {cursor: pointer;display: block;width: 100%;margin-bottom: 0;padding: 0.3em;box-sizing: border-box;text-align: center;}#sk-container-id-6 label.sk-toggleable__label-arrow:before {content: \"▸\";float: left;margin-right: 0.25em;color: #696969;}#sk-container-id-6 label.sk-toggleable__label-arrow:hover:before {color: black;}#sk-container-id-6 div.sk-estimator:hover label.sk-toggleable__label-arrow:before {color: black;}#sk-container-id-6 div.sk-toggleable__content {max-height: 0;max-width: 0;overflow: hidden;text-align: left;background-color: #f0f8ff;}#sk-container-id-6 div.sk-toggleable__content pre {margin: 0.2em;color: black;border-radius: 0.25em;background-color: #f0f8ff;}#sk-container-id-6 input.sk-toggleable__control:checked~div.sk-toggleable__content {max-height: 200px;max-width: 100%;overflow: auto;}#sk-container-id-6 input.sk-toggleable__control:checked~label.sk-toggleable__label-arrow:before {content: \"▾\";}#sk-container-id-6 div.sk-estimator input.sk-toggleable__control:checked~label.sk-toggleable__label {background-color: #d4ebff;}#sk-container-id-6 div.sk-label input.sk-toggleable__control:checked~label.sk-toggleable__label {background-color: #d4ebff;}#sk-container-id-6 input.sk-hidden--visually {border: 0;clip: rect(1px 1px 1px 1px);clip: rect(1px, 1px, 1px, 1px);height: 1px;margin: -1px;overflow: hidden;padding: 0;position: absolute;width: 1px;}#sk-container-id-6 div.sk-estimator {font-family: monospace;background-color: #f0f8ff;border: 1px dotted black;border-radius: 0.25em;box-sizing: border-box;margin-bottom: 0.5em;}#sk-container-id-6 div.sk-estimator:hover {background-color: #d4ebff;}#sk-container-id-6 div.sk-parallel-item::after {content: \"\";width: 100%;border-bottom: 1px solid gray;flex-grow: 1;}#sk-container-id-6 div.sk-label:hover label.sk-toggleable__label {background-color: #d4ebff;}#sk-container-id-6 div.sk-serial::before {content: \"\";position: absolute;border-left: 1px solid gray;box-sizing: border-box;top: 0;bottom: 0;left: 50%;z-index: 0;}#sk-container-id-6 div.sk-serial {display: flex;flex-direction: column;align-items: center;background-color: white;padding-right: 0.2em;padding-left: 0.2em;position: relative;}#sk-container-id-6 div.sk-item {position: relative;z-index: 1;}#sk-container-id-6 div.sk-parallel {display: flex;align-items: stretch;justify-content: center;background-color: white;position: relative;}#sk-container-id-6 div.sk-item::before, #sk-container-id-6 div.sk-parallel-item::before {content: \"\";position: absolute;border-left: 1px solid gray;box-sizing: border-box;top: 0;bottom: 0;left: 50%;z-index: -1;}#sk-container-id-6 div.sk-parallel-item {display: flex;flex-direction: column;z-index: 1;position: relative;background-color: white;}#sk-container-id-6 div.sk-parallel-item:first-child::after {align-self: flex-end;width: 50%;}#sk-container-id-6 div.sk-parallel-item:last-child::after {align-self: flex-start;width: 50%;}#sk-container-id-6 div.sk-parallel-item:only-child::after {width: 0;}#sk-container-id-6 div.sk-dashed-wrapped {border: 1px dashed gray;margin: 0 0.4em 0.5em 0.4em;box-sizing: border-box;padding-bottom: 0.4em;background-color: white;}#sk-container-id-6 div.sk-label label {font-family: monospace;font-weight: bold;display: inline-block;line-height: 1.2em;}#sk-container-id-6 div.sk-label-container {text-align: center;}#sk-container-id-6 div.sk-container {/* jupyter's `normalize.less` sets `[hidden] { display: none; }` but bootstrap.min.css set `[hidden] { display: none !important; }` so we also need the `!important` here to be able to override the default hidden behavior on the sphinx rendered scikit-learn.org. See: https://github.com/scikit-learn/scikit-learn/issues/21755 */display: inline-block !important;position: relative;}#sk-container-id-6 div.sk-text-repr-fallback {display: none;}</style><div id=\"sk-container-id-6\" class=\"sk-top-container\"><div class=\"sk-text-repr-fallback\"><pre>GridSearchCV(cv=5, estimator=SVC(), n_jobs=8,\n",
       "             param_grid={&#x27;C&#x27;: [2.15, 1], &#x27;kernel&#x27;: [&#x27;linear&#x27;, &#x27;rbf&#x27;]},\n",
       "             scoring=&#x27;accuracy&#x27;)</pre><b>In a Jupyter environment, please rerun this cell to show the HTML representation or trust the notebook. <br />On GitHub, the HTML representation is unable to render, please try loading this page with nbviewer.org.</b></div><div class=\"sk-container\" hidden><div class=\"sk-item sk-dashed-wrapped\"><div class=\"sk-label-container\"><div class=\"sk-label sk-toggleable\"><input class=\"sk-toggleable__control sk-hidden--visually\" id=\"sk-estimator-id-16\" type=\"checkbox\" ><label for=\"sk-estimator-id-16\" class=\"sk-toggleable__label sk-toggleable__label-arrow\">GridSearchCV</label><div class=\"sk-toggleable__content\"><pre>GridSearchCV(cv=5, estimator=SVC(), n_jobs=8,\n",
       "             param_grid={&#x27;C&#x27;: [2.15, 1], &#x27;kernel&#x27;: [&#x27;linear&#x27;, &#x27;rbf&#x27;]},\n",
       "             scoring=&#x27;accuracy&#x27;)</pre></div></div></div><div class=\"sk-parallel\"><div class=\"sk-parallel-item\"><div class=\"sk-item\"><div class=\"sk-label-container\"><div class=\"sk-label sk-toggleable\"><input class=\"sk-toggleable__control sk-hidden--visually\" id=\"sk-estimator-id-17\" type=\"checkbox\" ><label for=\"sk-estimator-id-17\" class=\"sk-toggleable__label sk-toggleable__label-arrow\">estimator: SVC</label><div class=\"sk-toggleable__content\"><pre>SVC()</pre></div></div></div><div class=\"sk-serial\"><div class=\"sk-item\"><div class=\"sk-estimator sk-toggleable\"><input class=\"sk-toggleable__control sk-hidden--visually\" id=\"sk-estimator-id-18\" type=\"checkbox\" ><label for=\"sk-estimator-id-18\" class=\"sk-toggleable__label sk-toggleable__label-arrow\">SVC</label><div class=\"sk-toggleable__content\"><pre>SVC()</pre></div></div></div></div></div></div></div></div></div></div>"
      ],
      "text/plain": [
       "GridSearchCV(cv=5, estimator=SVC(), n_jobs=8,\n",
       "             param_grid={'C': [2.15, 1], 'kernel': ['linear', 'rbf']},\n",
       "             scoring='accuracy')"
      ]
     },
     "execution_count": 52,
     "metadata": {},
     "output_type": "execute_result"
    }
   ],
   "source": [
    "GS.fit(X_train,y_train)"
   ]
  },
  {
   "cell_type": "code",
   "execution_count": 53,
   "metadata": {},
   "outputs": [
    {
     "data": {
      "text/plain": [
       "{'C': 2.15,\n",
       " 'break_ties': False,\n",
       " 'cache_size': 200,\n",
       " 'class_weight': None,\n",
       " 'coef0': 0.0,\n",
       " 'decision_function_shape': 'ovr',\n",
       " 'degree': 3,\n",
       " 'gamma': 'scale',\n",
       " 'kernel': 'rbf',\n",
       " 'max_iter': -1,\n",
       " 'probability': False,\n",
       " 'random_state': None,\n",
       " 'shrinking': True,\n",
       " 'tol': 0.001,\n",
       " 'verbose': False}"
      ]
     },
     "execution_count": 53,
     "metadata": {},
     "output_type": "execute_result"
    }
   ],
   "source": [
    "GS.best_estimator_.get_params()"
   ]
  },
  {
   "cell_type": "code",
   "execution_count": 56,
   "metadata": {},
   "outputs": [
    {
     "data": {
      "text/plain": [
       "array([[709, 116],\n",
       "       [ 87, 688]])"
      ]
     },
     "execution_count": 56,
     "metadata": {},
     "output_type": "execute_result"
    }
   ],
   "source": [
    "best_SVM_2=GS.best_estimator_\n",
    "y_pred=best_SVM_2.predict(X_test)\n",
    "confusion_matrix(y_test,y_pred)"
   ]
  },
  {
   "cell_type": "code",
   "execution_count": 16,
   "metadata": {},
   "outputs": [
    {
     "name": "stdout",
     "output_type": "stream",
     "text": [
      "23.2 µs ± 817 ns per loop (mean ± std. dev. of 7 runs, 10,000 loops each)\n"
     ]
    }
   ],
   "source": [
    "confusion_matrix(y_test,y_pred)"
   ]
  },
  {
   "cell_type": "code",
   "execution_count": 59,
   "metadata": {},
   "outputs": [
    {
     "data": {
      "text/html": [
       "<div>\n",
       "<style scoped>\n",
       "    .dataframe tbody tr th:only-of-type {\n",
       "        vertical-align: middle;\n",
       "    }\n",
       "\n",
       "    .dataframe tbody tr th {\n",
       "        vertical-align: top;\n",
       "    }\n",
       "\n",
       "    .dataframe thead th {\n",
       "        text-align: right;\n",
       "    }\n",
       "</style>\n",
       "<table border=\"1\" class=\"dataframe\">\n",
       "  <thead>\n",
       "    <tr style=\"text-align: right;\">\n",
       "      <th></th>\n",
       "      <th></th>\n",
       "      <th>precision</th>\n",
       "      <th>recall</th>\n",
       "      <th>f1-score</th>\n",
       "      <th>support</th>\n",
       "    </tr>\n",
       "  </thead>\n",
       "  <tbody>\n",
       "    <tr>\n",
       "      <th>0</th>\n",
       "      <td>1</td>\n",
       "      <td>0.859394</td>\n",
       "      <td>0.890704</td>\n",
       "      <td>0.874769</td>\n",
       "      <td>796</td>\n",
       "    </tr>\n",
       "    <tr>\n",
       "      <th>1</th>\n",
       "      <td>0</td>\n",
       "      <td>0.887742</td>\n",
       "      <td>0.855721</td>\n",
       "      <td>0.871438</td>\n",
       "      <td>804</td>\n",
       "    </tr>\n",
       "    <tr>\n",
       "      <th>2</th>\n",
       "      <td>accuracy</td>\n",
       "      <td></td>\n",
       "      <td></td>\n",
       "      <td>0.873125</td>\n",
       "      <td>1600</td>\n",
       "    </tr>\n",
       "    <tr>\n",
       "      <th>3</th>\n",
       "      <td>macro average</td>\n",
       "      <td>0.873568</td>\n",
       "      <td>0.873212</td>\n",
       "      <td>0.873103</td>\n",
       "      <td>1600</td>\n",
       "    </tr>\n",
       "    <tr>\n",
       "      <th>4</th>\n",
       "      <td>weighted average</td>\n",
       "      <td>0.873639</td>\n",
       "      <td>0.873125</td>\n",
       "      <td>0.873111</td>\n",
       "      <td>1600</td>\n",
       "    </tr>\n",
       "  </tbody>\n",
       "</table>\n",
       "</div>"
      ],
      "text/plain": [
       "                    precision    recall  f1-score  support\n",
       "0                 1  0.859394  0.890704  0.874769      796\n",
       "1                 0  0.887742  0.855721  0.871438      804\n",
       "2          accuracy                      0.873125     1600\n",
       "3     macro average  0.873568  0.873212  0.873103     1600\n",
       "4  weighted average  0.873639  0.873125  0.873111     1600"
      ]
     },
     "execution_count": 59,
     "metadata": {},
     "output_type": "execute_result"
    }
   ],
   "source": [
    "summary_report(y_test,y_pred)"
   ]
  },
  {
   "cell_type": "code",
   "execution_count": 63,
   "metadata": {},
   "outputs": [],
   "source": [
    "y_pred=best_SVM_2.predict(X_test)"
   ]
  },
  {
   "cell_type": "code",
   "execution_count": 65,
   "metadata": {},
   "outputs": [
    {
     "name": "stdout",
     "output_type": "stream",
     "text": [
      "[[709 116]\n",
      " [ 87 688]]\n"
     ]
    }
   ],
   "source": [
    "print(confusion_matrix(y_test,y_pred))"
   ]
  },
  {
   "cell_type": "code",
   "execution_count": 44,
   "metadata": {},
   "outputs": [
    {
     "data": {
      "text/html": [
       "<style type=\"text/css\">\n",
       "</style>\n",
       "<table id=\"T_e83f9\">\n",
       "  <thead>\n",
       "    <tr>\n",
       "      <th id=\"T_e83f9_level0_col0\" class=\"col_heading level0 col0\" ></th>\n",
       "      <th id=\"T_e83f9_level0_col1\" class=\"col_heading level0 col1\" >precision</th>\n",
       "      <th id=\"T_e83f9_level0_col2\" class=\"col_heading level0 col2\" >recall</th>\n",
       "      <th id=\"T_e83f9_level0_col3\" class=\"col_heading level0 col3\" >f1-score</th>\n",
       "      <th id=\"T_e83f9_level0_col4\" class=\"col_heading level0 col4\" >support</th>\n",
       "    </tr>\n",
       "  </thead>\n",
       "  <tbody>\n",
       "    <tr>\n",
       "      <td id=\"T_e83f9_row0_col0\" class=\"data row0 col0\" >1</td>\n",
       "      <td id=\"T_e83f9_row0_col1\" class=\"data row0 col1\" >1.000000</td>\n",
       "      <td id=\"T_e83f9_row0_col2\" class=\"data row0 col2\" >1.000000</td>\n",
       "      <td id=\"T_e83f9_row0_col3\" class=\"data row0 col3\" >1.000000</td>\n",
       "      <td id=\"T_e83f9_row0_col4\" class=\"data row0 col4\" >3204</td>\n",
       "    </tr>\n",
       "    <tr>\n",
       "      <td id=\"T_e83f9_row1_col0\" class=\"data row1 col0\" >0</td>\n",
       "      <td id=\"T_e83f9_row1_col1\" class=\"data row1 col1\" >1.000000</td>\n",
       "      <td id=\"T_e83f9_row1_col2\" class=\"data row1 col2\" >1.000000</td>\n",
       "      <td id=\"T_e83f9_row1_col3\" class=\"data row1 col3\" >1.000000</td>\n",
       "      <td id=\"T_e83f9_row1_col4\" class=\"data row1 col4\" >3196</td>\n",
       "    </tr>\n",
       "    <tr>\n",
       "      <td id=\"T_e83f9_row2_col0\" class=\"data row2 col0\" >accuracy</td>\n",
       "      <td id=\"T_e83f9_row2_col1\" class=\"data row2 col1\" ></td>\n",
       "      <td id=\"T_e83f9_row2_col2\" class=\"data row2 col2\" ></td>\n",
       "      <td id=\"T_e83f9_row2_col3\" class=\"data row2 col3\" >1.000000</td>\n",
       "      <td id=\"T_e83f9_row2_col4\" class=\"data row2 col4\" >6400</td>\n",
       "    </tr>\n",
       "    <tr>\n",
       "      <td id=\"T_e83f9_row3_col0\" class=\"data row3 col0\" >macro average</td>\n",
       "      <td id=\"T_e83f9_row3_col1\" class=\"data row3 col1\" >1.000000</td>\n",
       "      <td id=\"T_e83f9_row3_col2\" class=\"data row3 col2\" >1.000000</td>\n",
       "      <td id=\"T_e83f9_row3_col3\" class=\"data row3 col3\" >1.000000</td>\n",
       "      <td id=\"T_e83f9_row3_col4\" class=\"data row3 col4\" >6400</td>\n",
       "    </tr>\n",
       "    <tr>\n",
       "      <td id=\"T_e83f9_row4_col0\" class=\"data row4 col0\" >weighted average</td>\n",
       "      <td id=\"T_e83f9_row4_col1\" class=\"data row4 col1\" >1.000000</td>\n",
       "      <td id=\"T_e83f9_row4_col2\" class=\"data row4 col2\" >1.000000</td>\n",
       "      <td id=\"T_e83f9_row4_col3\" class=\"data row4 col3\" >1.000000</td>\n",
       "      <td id=\"T_e83f9_row4_col4\" class=\"data row4 col4\" >6400</td>\n",
       "    </tr>\n",
       "  </tbody>\n",
       "</table>\n"
      ],
      "text/plain": [
       "<pandas.io.formats.style.Styler at 0x2220e7837d0>"
      ]
     },
     "execution_count": 44,
     "metadata": {},
     "output_type": "execute_result"
    }
   ],
   "source": [
    "summary_report(y_test,y_pred).style.hide().to_excel('SVM.xlsx')\n",
    "summary_report(y_train,y_pred).style.hide()"
   ]
  },
  {
   "cell_type": "code",
   "execution_count": 66,
   "metadata": {},
   "outputs": [],
   "source": [
    "pickle.dump(best_SVM_2,open('classifier_SVM.pkl','wb'))"
   ]
  },
  {
   "cell_type": "markdown",
   "metadata": {},
   "source": [
    "# Naive Bayes"
   ]
  },
  {
   "cell_type": "code",
   "execution_count": 113,
   "metadata": {},
   "outputs": [],
   "source": [
    "naive_bayes = MultinomialNB(alpha=1.17)\n",
    "naive_bayes.fit(X_train, y_train)\n",
    "y_pred = naive_bayes.predict(X_test)"
   ]
  },
  {
   "cell_type": "code",
   "execution_count": 114,
   "metadata": {},
   "outputs": [
    {
     "name": "stdout",
     "output_type": "stream",
     "text": [
      "[[628  76]\n",
      " [168 728]]\n"
     ]
    }
   ],
   "source": [
    "print(confusion_matrix(y_test,y_pred))"
   ]
  },
  {
   "cell_type": "code",
   "execution_count": 115,
   "metadata": {},
   "outputs": [
    {
     "data": {
      "text/html": [
       "<style type=\"text/css\">\n",
       "</style>\n",
       "<table id=\"T_99468\">\n",
       "  <thead>\n",
       "    <tr>\n",
       "      <th id=\"T_99468_level0_col0\" class=\"col_heading level0 col0\" ></th>\n",
       "      <th id=\"T_99468_level0_col1\" class=\"col_heading level0 col1\" >precision</th>\n",
       "      <th id=\"T_99468_level0_col2\" class=\"col_heading level0 col2\" >recall</th>\n",
       "      <th id=\"T_99468_level0_col3\" class=\"col_heading level0 col3\" >f1-score</th>\n",
       "      <th id=\"T_99468_level0_col4\" class=\"col_heading level0 col4\" >support</th>\n",
       "    </tr>\n",
       "  </thead>\n",
       "  <tbody>\n",
       "    <tr>\n",
       "      <td id=\"T_99468_row0_col0\" class=\"data row0 col0\" >1</td>\n",
       "      <td id=\"T_99468_row0_col1\" class=\"data row0 col1\" >0.892045</td>\n",
       "      <td id=\"T_99468_row0_col2\" class=\"data row0 col2\" >0.788945</td>\n",
       "      <td id=\"T_99468_row0_col3\" class=\"data row0 col3\" >0.837333</td>\n",
       "      <td id=\"T_99468_row0_col4\" class=\"data row0 col4\" >796</td>\n",
       "    </tr>\n",
       "    <tr>\n",
       "      <td id=\"T_99468_row1_col0\" class=\"data row1 col0\" >0</td>\n",
       "      <td id=\"T_99468_row1_col1\" class=\"data row1 col1\" >0.812500</td>\n",
       "      <td id=\"T_99468_row1_col2\" class=\"data row1 col2\" >0.905473</td>\n",
       "      <td id=\"T_99468_row1_col3\" class=\"data row1 col3\" >0.856471</td>\n",
       "      <td id=\"T_99468_row1_col4\" class=\"data row1 col4\" >804</td>\n",
       "    </tr>\n",
       "    <tr>\n",
       "      <td id=\"T_99468_row2_col0\" class=\"data row2 col0\" >accuracy</td>\n",
       "      <td id=\"T_99468_row2_col1\" class=\"data row2 col1\" ></td>\n",
       "      <td id=\"T_99468_row2_col2\" class=\"data row2 col2\" ></td>\n",
       "      <td id=\"T_99468_row2_col3\" class=\"data row2 col3\" >0.847500</td>\n",
       "      <td id=\"T_99468_row2_col4\" class=\"data row2 col4\" >1600</td>\n",
       "    </tr>\n",
       "    <tr>\n",
       "      <td id=\"T_99468_row3_col0\" class=\"data row3 col0\" >macro average</td>\n",
       "      <td id=\"T_99468_row3_col1\" class=\"data row3 col1\" >0.852273</td>\n",
       "      <td id=\"T_99468_row3_col2\" class=\"data row3 col2\" >0.847209</td>\n",
       "      <td id=\"T_99468_row3_col3\" class=\"data row3 col3\" >0.846902</td>\n",
       "      <td id=\"T_99468_row3_col4\" class=\"data row3 col4\" >1600</td>\n",
       "    </tr>\n",
       "    <tr>\n",
       "      <td id=\"T_99468_row4_col0\" class=\"data row4 col0\" >weighted average</td>\n",
       "      <td id=\"T_99468_row4_col1\" class=\"data row4 col1\" >0.852074</td>\n",
       "      <td id=\"T_99468_row4_col2\" class=\"data row4 col2\" >0.847500</td>\n",
       "      <td id=\"T_99468_row4_col3\" class=\"data row4 col3\" >0.846854</td>\n",
       "      <td id=\"T_99468_row4_col4\" class=\"data row4 col4\" >1600</td>\n",
       "    </tr>\n",
       "  </tbody>\n",
       "</table>\n"
      ],
      "text/plain": [
       "<pandas.io.formats.style.Styler at 0x26f338b3bd0>"
      ]
     },
     "execution_count": 115,
     "metadata": {},
     "output_type": "execute_result"
    }
   ],
   "source": [
    "# summary_report(y_test,y_pred).style.hide().to_excel('NaiveBayes.xlsx')\n",
    "summary_report(y_test,y_pred).style.hide()"
   ]
  },
  {
   "cell_type": "code",
   "execution_count": 116,
   "metadata": {},
   "outputs": [],
   "source": [
    "pickle.dump(naive_bayes,open('classifier_NaiveBayes.pkl','wb'))"
   ]
  },
  {
   "cell_type": "markdown",
   "metadata": {},
   "source": [
    "# Random Forest Built In"
   ]
  },
  {
   "cell_type": "code",
   "execution_count": 67,
   "metadata": {},
   "outputs": [],
   "source": [
    "search_space={'n_estimators':np.array(range(50,150,10)),\n",
    "              'random_state':[42],\n",
    "              'max_depth':np.concatenate([[-1],range(2,21)]),\n",
    "              'criterion':['gini','entropy']}"
   ]
  },
  {
   "cell_type": "code",
   "execution_count": 132,
   "metadata": {},
   "outputs": [],
   "source": [
    "rf=RandomForestClassifier()\n",
    "rf = RandomForestClassifier(n_estimators=130, random_state=42,max_depth=17)\n",
    "rf.fit(X_train, y_train)\n",
    "y_pred = rf.predict(X_test)"
   ]
  },
  {
   "cell_type": "code",
   "execution_count": 68,
   "metadata": {},
   "outputs": [],
   "source": [
    "GS=GridSearchCV(estimator=RandomForestClassifier(),\n",
    "                param_grid=search_space,\n",
    "                scoring='accuracy',\n",
    "                cv=5,\n",
    "                n_jobs=6\n",
    "                )"
   ]
  },
  {
   "cell_type": "code",
   "execution_count": 70,
   "metadata": {},
   "outputs": [
    {
     "name": "stderr",
     "output_type": "stream",
     "text": [
      "c:\\Users\\admin\\anaconda3\\Lib\\site-packages\\sklearn\\model_selection\\_validation.py:378: FitFailedWarning: \n",
      "100 fits failed out of a total of 2000.\n",
      "The score on these train-test partitions for these parameters will be set to nan.\n",
      "If these failures are not expected, you can try to debug them by setting error_score='raise'.\n",
      "\n",
      "Below are more details about the failures:\n",
      "--------------------------------------------------------------------------------\n",
      "100 fits failed with the following error:\n",
      "Traceback (most recent call last):\n",
      "  File \"c:\\Users\\admin\\anaconda3\\Lib\\site-packages\\sklearn\\model_selection\\_validation.py\", line 686, in _fit_and_score\n",
      "    estimator.fit(X_train, y_train, **fit_params)\n",
      "  File \"c:\\Users\\admin\\anaconda3\\Lib\\site-packages\\sklearn\\ensemble\\_forest.py\", line 340, in fit\n",
      "    self._validate_params()\n",
      "  File \"c:\\Users\\admin\\anaconda3\\Lib\\site-packages\\sklearn\\base.py\", line 600, in _validate_params\n",
      "    validate_parameter_constraints(\n",
      "  File \"c:\\Users\\admin\\anaconda3\\Lib\\site-packages\\sklearn\\utils\\_param_validation.py\", line 97, in validate_parameter_constraints\n",
      "    raise InvalidParameterError(\n",
      "sklearn.utils._param_validation.InvalidParameterError: The 'max_depth' parameter of RandomForestClassifier must be an int in the range [1, inf) or None. Got -1 instead.\n",
      "\n",
      "  warnings.warn(some_fits_failed_message, FitFailedWarning)\n",
      "c:\\Users\\admin\\anaconda3\\Lib\\site-packages\\sklearn\\model_selection\\_search.py:952: UserWarning: One or more of the test scores are non-finite: [       nan        nan        nan        nan        nan        nan\n",
      "        nan        nan        nan        nan 0.7209375  0.7278125\n",
      " 0.743125   0.7546875  0.7559375  0.765625   0.7703125  0.7728125\n",
      " 0.77765625 0.7771875  0.74359375 0.75328125 0.765      0.77125\n",
      " 0.77421875 0.78015625 0.7878125  0.7884375  0.7865625  0.79015625\n",
      " 0.7634375  0.77234375 0.78046875 0.786875   0.78953125 0.79171875\n",
      " 0.79828125 0.799375   0.79953125 0.80390625 0.77421875 0.7865625\n",
      " 0.79015625 0.7984375  0.80046875 0.8028125  0.80375    0.80421875\n",
      " 0.8021875  0.80546875 0.77390625 0.7859375  0.7921875  0.80296875\n",
      " 0.8053125  0.80875    0.80890625 0.81140625 0.81296875 0.8125\n",
      " 0.781875   0.7915625  0.7959375  0.79921875 0.8090625  0.8096875\n",
      " 0.8121875  0.81453125 0.8165625  0.81609375 0.78625    0.7928125\n",
      " 0.79875    0.80359375 0.80875    0.81390625 0.81546875 0.8171875\n",
      " 0.81609375 0.81765625 0.791875   0.79765625 0.804375   0.8109375\n",
      " 0.8125     0.81109375 0.81359375 0.81640625 0.815625   0.818125\n",
      " 0.79359375 0.80359375 0.8078125  0.810625   0.81       0.8115625\n",
      " 0.8146875  0.81640625 0.81625    0.8190625  0.79328125 0.80109375\n",
      " 0.8071875  0.81046875 0.81078125 0.8165625  0.81796875 0.81921875\n",
      " 0.8175     0.81921875 0.79734375 0.80359375 0.81140625 0.8171875\n",
      " 0.8184375  0.82265625 0.82296875 0.823125   0.82296875 0.82359375\n",
      " 0.7978125  0.80609375 0.8153125  0.8159375  0.81890625 0.82140625\n",
      " 0.8234375  0.82578125 0.82796875 0.82703125 0.80640625 0.81203125\n",
      " 0.81234375 0.81890625 0.821875   0.825625   0.82765625 0.82734375\n",
      " 0.82796875 0.82859375 0.79703125 0.80484375 0.80984375 0.81546875\n",
      " 0.81796875 0.82421875 0.8278125  0.825625   0.82609375 0.8265625\n",
      " 0.7975     0.80359375 0.8078125  0.81765625 0.820625   0.82140625\n",
      " 0.82484375 0.82765625 0.82796875 0.83046875 0.79875    0.80640625\n",
      " 0.810625   0.81734375 0.81984375 0.821875   0.82421875 0.824375\n",
      " 0.82640625 0.82640625 0.80328125 0.8078125  0.81515625 0.821875\n",
      " 0.82140625 0.8228125  0.8259375  0.82734375 0.82890625 0.826875\n",
      " 0.8        0.804375   0.81234375 0.81484375 0.8190625  0.819375\n",
      " 0.82234375 0.8265625  0.8259375  0.8240625  0.79734375 0.80984375\n",
      " 0.81546875 0.8190625  0.8228125  0.825      0.82765625 0.82703125\n",
      " 0.82875    0.82953125        nan        nan        nan        nan\n",
      "        nan        nan        nan        nan        nan        nan\n",
      " 0.72296875 0.7340625  0.74421875 0.75484375 0.7546875  0.763125\n",
      " 0.77125    0.77515625 0.7765625  0.77953125 0.7465625  0.7596875\n",
      " 0.76640625 0.77546875 0.781875   0.78234375 0.7909375  0.7878125\n",
      " 0.78953125 0.795625   0.76140625 0.77359375 0.775      0.784375\n",
      " 0.7903125  0.79234375 0.79484375 0.79859375 0.803125   0.805\n",
      " 0.7715625  0.78328125 0.78640625 0.79125    0.7934375  0.79734375\n",
      " 0.79953125 0.805      0.8015625  0.8040625  0.77125    0.78359375\n",
      " 0.790625   0.79515625 0.80078125 0.80484375 0.80890625 0.81171875\n",
      " 0.8109375  0.81484375 0.77703125 0.78890625 0.79703125 0.8028125\n",
      " 0.804375   0.806875   0.80921875 0.8125     0.8134375  0.81546875\n",
      " 0.79046875 0.80109375 0.805      0.8053125  0.80875    0.814375\n",
      " 0.81609375 0.8190625  0.820625   0.81796875 0.79265625 0.7996875\n",
      " 0.80578125 0.8115625  0.81421875 0.814375   0.81546875 0.8203125\n",
      " 0.8196875  0.82140625 0.79203125 0.80046875 0.80328125 0.809375\n",
      " 0.80828125 0.81296875 0.815625   0.81890625 0.8146875  0.8190625\n",
      " 0.796875   0.805      0.8075     0.81125    0.811875   0.8175\n",
      " 0.81703125 0.81890625 0.820625   0.82203125 0.79703125 0.80703125\n",
      " 0.811875   0.815      0.8171875  0.81921875 0.82359375 0.82640625\n",
      " 0.8284375  0.8259375  0.79984375 0.80140625 0.81078125 0.8146875\n",
      " 0.8165625  0.818125   0.82359375 0.8246875  0.8265625  0.82921875\n",
      " 0.79640625 0.8046875  0.8115625  0.8165625  0.818125   0.82203125\n",
      " 0.82609375 0.8284375  0.82671875 0.829375   0.80671875 0.81421875\n",
      " 0.8178125  0.82109375 0.82546875 0.82984375 0.8309375  0.83234375\n",
      " 0.82984375 0.8315625  0.8028125  0.8125     0.818125   0.823125\n",
      " 0.82453125 0.82640625 0.82390625 0.82671875 0.828125   0.82796875\n",
      " 0.8053125  0.8128125  0.8196875  0.8240625  0.824375   0.82203125\n",
      " 0.82515625 0.8284375  0.83234375 0.83171875 0.800625   0.80734375\n",
      " 0.81265625 0.8153125  0.8184375  0.82234375 0.8225     0.8240625\n",
      " 0.8284375  0.8271875  0.80765625 0.8146875  0.81796875 0.82078125\n",
      " 0.8246875  0.82609375 0.82765625 0.826875   0.82640625 0.82828125\n",
      " 0.8090625  0.81453125 0.81875    0.8271875  0.82640625 0.82859375\n",
      " 0.8278125  0.82984375 0.82875    0.8315625 ]\n",
      "  warnings.warn(\n"
     ]
    },
    {
     "data": {
      "text/html": [
       "<style>#sk-container-id-7 {color: black;background-color: white;}#sk-container-id-7 pre{padding: 0;}#sk-container-id-7 div.sk-toggleable {background-color: white;}#sk-container-id-7 label.sk-toggleable__label {cursor: pointer;display: block;width: 100%;margin-bottom: 0;padding: 0.3em;box-sizing: border-box;text-align: center;}#sk-container-id-7 label.sk-toggleable__label-arrow:before {content: \"▸\";float: left;margin-right: 0.25em;color: #696969;}#sk-container-id-7 label.sk-toggleable__label-arrow:hover:before {color: black;}#sk-container-id-7 div.sk-estimator:hover label.sk-toggleable__label-arrow:before {color: black;}#sk-container-id-7 div.sk-toggleable__content {max-height: 0;max-width: 0;overflow: hidden;text-align: left;background-color: #f0f8ff;}#sk-container-id-7 div.sk-toggleable__content pre {margin: 0.2em;color: black;border-radius: 0.25em;background-color: #f0f8ff;}#sk-container-id-7 input.sk-toggleable__control:checked~div.sk-toggleable__content {max-height: 200px;max-width: 100%;overflow: auto;}#sk-container-id-7 input.sk-toggleable__control:checked~label.sk-toggleable__label-arrow:before {content: \"▾\";}#sk-container-id-7 div.sk-estimator input.sk-toggleable__control:checked~label.sk-toggleable__label {background-color: #d4ebff;}#sk-container-id-7 div.sk-label input.sk-toggleable__control:checked~label.sk-toggleable__label {background-color: #d4ebff;}#sk-container-id-7 input.sk-hidden--visually {border: 0;clip: rect(1px 1px 1px 1px);clip: rect(1px, 1px, 1px, 1px);height: 1px;margin: -1px;overflow: hidden;padding: 0;position: absolute;width: 1px;}#sk-container-id-7 div.sk-estimator {font-family: monospace;background-color: #f0f8ff;border: 1px dotted black;border-radius: 0.25em;box-sizing: border-box;margin-bottom: 0.5em;}#sk-container-id-7 div.sk-estimator:hover {background-color: #d4ebff;}#sk-container-id-7 div.sk-parallel-item::after {content: \"\";width: 100%;border-bottom: 1px solid gray;flex-grow: 1;}#sk-container-id-7 div.sk-label:hover label.sk-toggleable__label {background-color: #d4ebff;}#sk-container-id-7 div.sk-serial::before {content: \"\";position: absolute;border-left: 1px solid gray;box-sizing: border-box;top: 0;bottom: 0;left: 50%;z-index: 0;}#sk-container-id-7 div.sk-serial {display: flex;flex-direction: column;align-items: center;background-color: white;padding-right: 0.2em;padding-left: 0.2em;position: relative;}#sk-container-id-7 div.sk-item {position: relative;z-index: 1;}#sk-container-id-7 div.sk-parallel {display: flex;align-items: stretch;justify-content: center;background-color: white;position: relative;}#sk-container-id-7 div.sk-item::before, #sk-container-id-7 div.sk-parallel-item::before {content: \"\";position: absolute;border-left: 1px solid gray;box-sizing: border-box;top: 0;bottom: 0;left: 50%;z-index: -1;}#sk-container-id-7 div.sk-parallel-item {display: flex;flex-direction: column;z-index: 1;position: relative;background-color: white;}#sk-container-id-7 div.sk-parallel-item:first-child::after {align-self: flex-end;width: 50%;}#sk-container-id-7 div.sk-parallel-item:last-child::after {align-self: flex-start;width: 50%;}#sk-container-id-7 div.sk-parallel-item:only-child::after {width: 0;}#sk-container-id-7 div.sk-dashed-wrapped {border: 1px dashed gray;margin: 0 0.4em 0.5em 0.4em;box-sizing: border-box;padding-bottom: 0.4em;background-color: white;}#sk-container-id-7 div.sk-label label {font-family: monospace;font-weight: bold;display: inline-block;line-height: 1.2em;}#sk-container-id-7 div.sk-label-container {text-align: center;}#sk-container-id-7 div.sk-container {/* jupyter's `normalize.less` sets `[hidden] { display: none; }` but bootstrap.min.css set `[hidden] { display: none !important; }` so we also need the `!important` here to be able to override the default hidden behavior on the sphinx rendered scikit-learn.org. See: https://github.com/scikit-learn/scikit-learn/issues/21755 */display: inline-block !important;position: relative;}#sk-container-id-7 div.sk-text-repr-fallback {display: none;}</style><div id=\"sk-container-id-7\" class=\"sk-top-container\"><div class=\"sk-text-repr-fallback\"><pre>GridSearchCV(cv=5, estimator=RandomForestClassifier(), n_jobs=6,\n",
       "             param_grid={&#x27;criterion&#x27;: [&#x27;gini&#x27;, &#x27;entropy&#x27;],\n",
       "                         &#x27;max_depth&#x27;: array([-1,  2,  3,  4,  5,  6,  7,  8,  9, 10, 11, 12, 13, 14, 15, 16, 17,\n",
       "       18, 19, 20]),\n",
       "                         &#x27;n_estimators&#x27;: array([ 50,  60,  70,  80,  90, 100, 110, 120, 130, 140]),\n",
       "                         &#x27;random_state&#x27;: [42]},\n",
       "             scoring=&#x27;accuracy&#x27;)</pre><b>In a Jupyter environment, please rerun this cell to show the HTML representation or trust the notebook. <br />On GitHub, the HTML representation is unable to render, please try loading this page with nbviewer.org.</b></div><div class=\"sk-container\" hidden><div class=\"sk-item sk-dashed-wrapped\"><div class=\"sk-label-container\"><div class=\"sk-label sk-toggleable\"><input class=\"sk-toggleable__control sk-hidden--visually\" id=\"sk-estimator-id-19\" type=\"checkbox\" ><label for=\"sk-estimator-id-19\" class=\"sk-toggleable__label sk-toggleable__label-arrow\">GridSearchCV</label><div class=\"sk-toggleable__content\"><pre>GridSearchCV(cv=5, estimator=RandomForestClassifier(), n_jobs=6,\n",
       "             param_grid={&#x27;criterion&#x27;: [&#x27;gini&#x27;, &#x27;entropy&#x27;],\n",
       "                         &#x27;max_depth&#x27;: array([-1,  2,  3,  4,  5,  6,  7,  8,  9, 10, 11, 12, 13, 14, 15, 16, 17,\n",
       "       18, 19, 20]),\n",
       "                         &#x27;n_estimators&#x27;: array([ 50,  60,  70,  80,  90, 100, 110, 120, 130, 140]),\n",
       "                         &#x27;random_state&#x27;: [42]},\n",
       "             scoring=&#x27;accuracy&#x27;)</pre></div></div></div><div class=\"sk-parallel\"><div class=\"sk-parallel-item\"><div class=\"sk-item\"><div class=\"sk-label-container\"><div class=\"sk-label sk-toggleable\"><input class=\"sk-toggleable__control sk-hidden--visually\" id=\"sk-estimator-id-20\" type=\"checkbox\" ><label for=\"sk-estimator-id-20\" class=\"sk-toggleable__label sk-toggleable__label-arrow\">estimator: RandomForestClassifier</label><div class=\"sk-toggleable__content\"><pre>RandomForestClassifier()</pre></div></div></div><div class=\"sk-serial\"><div class=\"sk-item\"><div class=\"sk-estimator sk-toggleable\"><input class=\"sk-toggleable__control sk-hidden--visually\" id=\"sk-estimator-id-21\" type=\"checkbox\" ><label for=\"sk-estimator-id-21\" class=\"sk-toggleable__label sk-toggleable__label-arrow\">RandomForestClassifier</label><div class=\"sk-toggleable__content\"><pre>RandomForestClassifier()</pre></div></div></div></div></div></div></div></div></div></div>"
      ],
      "text/plain": [
       "GridSearchCV(cv=5, estimator=RandomForestClassifier(), n_jobs=6,\n",
       "             param_grid={'criterion': ['gini', 'entropy'],\n",
       "                         'max_depth': array([-1,  2,  3,  4,  5,  6,  7,  8,  9, 10, 11, 12, 13, 14, 15, 16, 17,\n",
       "       18, 19, 20]),\n",
       "                         'n_estimators': array([ 50,  60,  70,  80,  90, 100, 110, 120, 130, 140]),\n",
       "                         'random_state': [42]},\n",
       "             scoring='accuracy')"
      ]
     },
     "execution_count": 70,
     "metadata": {},
     "output_type": "execute_result"
    }
   ],
   "source": [
    "GS.fit(X_train,y_train)"
   ]
  },
  {
   "cell_type": "code",
   "execution_count": 74,
   "metadata": {},
   "outputs": [
    {
     "data": {
      "text/plain": [
       "{'bootstrap': True,\n",
       " 'ccp_alpha': 0.0,\n",
       " 'class_weight': None,\n",
       " 'criterion': 'entropy',\n",
       " 'max_depth': 17,\n",
       " 'max_features': 'sqrt',\n",
       " 'max_leaf_nodes': None,\n",
       " 'max_samples': None,\n",
       " 'min_impurity_decrease': 0.0,\n",
       " 'min_samples_leaf': 1,\n",
       " 'min_samples_split': 2,\n",
       " 'min_weight_fraction_leaf': 0.0,\n",
       " 'n_estimators': 130,\n",
       " 'n_jobs': None,\n",
       " 'oob_score': False,\n",
       " 'random_state': 42,\n",
       " 'verbose': 0,\n",
       " 'warm_start': False}"
      ]
     },
     "execution_count": 74,
     "metadata": {},
     "output_type": "execute_result"
    }
   ],
   "source": [
    "GS.best_estimator_.get_params()"
   ]
  },
  {
   "cell_type": "code",
   "execution_count": 78,
   "metadata": {},
   "outputs": [],
   "source": [
    "new_rf_best=GS.best_estimator_\n",
    "y_pred=new_rf_best.predict(X_test)"
   ]
  },
  {
   "cell_type": "code",
   "execution_count": 79,
   "metadata": {},
   "outputs": [
    {
     "name": "stdout",
     "output_type": "stream",
     "text": [
      "[[658 141]\n",
      " [138 663]]\n"
     ]
    }
   ],
   "source": [
    "print(confusion_matrix(y_test,y_pred))"
   ]
  },
  {
   "cell_type": "code",
   "execution_count": 80,
   "metadata": {},
   "outputs": [
    {
     "data": {
      "text/html": [
       "<style type=\"text/css\">\n",
       "</style>\n",
       "<table id=\"T_f20d5\">\n",
       "  <thead>\n",
       "    <tr>\n",
       "      <th id=\"T_f20d5_level0_col0\" class=\"col_heading level0 col0\" ></th>\n",
       "      <th id=\"T_f20d5_level0_col1\" class=\"col_heading level0 col1\" >precision</th>\n",
       "      <th id=\"T_f20d5_level0_col2\" class=\"col_heading level0 col2\" >recall</th>\n",
       "      <th id=\"T_f20d5_level0_col3\" class=\"col_heading level0 col3\" >f1-score</th>\n",
       "      <th id=\"T_f20d5_level0_col4\" class=\"col_heading level0 col4\" >support</th>\n",
       "    </tr>\n",
       "  </thead>\n",
       "  <tbody>\n",
       "    <tr>\n",
       "      <td id=\"T_f20d5_row0_col0\" class=\"data row0 col0\" >1</td>\n",
       "      <td id=\"T_f20d5_row0_col1\" class=\"data row0 col1\" >0.823529</td>\n",
       "      <td id=\"T_f20d5_row0_col2\" class=\"data row0 col2\" >0.826633</td>\n",
       "      <td id=\"T_f20d5_row0_col3\" class=\"data row0 col3\" >0.825078</td>\n",
       "      <td id=\"T_f20d5_row0_col4\" class=\"data row0 col4\" >796</td>\n",
       "    </tr>\n",
       "    <tr>\n",
       "      <td id=\"T_f20d5_row1_col0\" class=\"data row1 col0\" >0</td>\n",
       "      <td id=\"T_f20d5_row1_col1\" class=\"data row1 col1\" >0.827715</td>\n",
       "      <td id=\"T_f20d5_row1_col2\" class=\"data row1 col2\" >0.824627</td>\n",
       "      <td id=\"T_f20d5_row1_col3\" class=\"data row1 col3\" >0.826168</td>\n",
       "      <td id=\"T_f20d5_row1_col4\" class=\"data row1 col4\" >804</td>\n",
       "    </tr>\n",
       "    <tr>\n",
       "      <td id=\"T_f20d5_row2_col0\" class=\"data row2 col0\" >accuracy</td>\n",
       "      <td id=\"T_f20d5_row2_col1\" class=\"data row2 col1\" ></td>\n",
       "      <td id=\"T_f20d5_row2_col2\" class=\"data row2 col2\" ></td>\n",
       "      <td id=\"T_f20d5_row2_col3\" class=\"data row2 col3\" >0.825625</td>\n",
       "      <td id=\"T_f20d5_row2_col4\" class=\"data row2 col4\" >1600</td>\n",
       "    </tr>\n",
       "    <tr>\n",
       "      <td id=\"T_f20d5_row3_col0\" class=\"data row3 col0\" >macro average</td>\n",
       "      <td id=\"T_f20d5_row3_col1\" class=\"data row3 col1\" >0.825622</td>\n",
       "      <td id=\"T_f20d5_row3_col2\" class=\"data row3 col2\" >0.825630</td>\n",
       "      <td id=\"T_f20d5_row3_col3\" class=\"data row3 col3\" >0.825623</td>\n",
       "      <td id=\"T_f20d5_row3_col4\" class=\"data row3 col4\" >1600</td>\n",
       "    </tr>\n",
       "    <tr>\n",
       "      <td id=\"T_f20d5_row4_col0\" class=\"data row4 col0\" >weighted average</td>\n",
       "      <td id=\"T_f20d5_row4_col1\" class=\"data row4 col1\" >0.825633</td>\n",
       "      <td id=\"T_f20d5_row4_col2\" class=\"data row4 col2\" >0.825625</td>\n",
       "      <td id=\"T_f20d5_row4_col3\" class=\"data row4 col3\" >0.825621</td>\n",
       "      <td id=\"T_f20d5_row4_col4\" class=\"data row4 col4\" >1600</td>\n",
       "    </tr>\n",
       "  </tbody>\n",
       "</table>\n"
      ],
      "text/plain": [
       "<pandas.io.formats.style.Styler at 0x26f3577c310>"
      ]
     },
     "execution_count": 80,
     "metadata": {},
     "output_type": "execute_result"
    }
   ],
   "source": [
    "# summary_report(y_test,y_pred).style.hide().to_excel('RandomForest.xlsx')\n",
    "summary_report(y_test,y_pred).style.hide()"
   ]
  },
  {
   "cell_type": "code",
   "execution_count": 133,
   "metadata": {},
   "outputs": [],
   "source": [
    "pickle.dump(rf,open('classifier_RandomForestBuiltIn.pkl','w'))"
   ]
  },
  {
   "cell_type": "markdown",
   "metadata": {},
   "source": [
    "# Custom Random Forest"
   ]
  },
  {
   "cell_type": "code",
   "execution_count": 18,
   "metadata": {},
   "outputs": [],
   "source": [
    "y_train=y_train.to_numpy()\n",
    "custrf=CustomRandomForest(130)\n",
    "custrf.fit(X_train, y_train)\n",
    "cust_pred=custrf.predict(X_test)"
   ]
  },
  {
   "cell_type": "code",
   "execution_count": 19,
   "metadata": {},
   "outputs": [
    {
     "data": {
      "text/plain": [
       "array([[607, 141],\n",
       "       [189, 663]])"
      ]
     },
     "execution_count": 19,
     "metadata": {},
     "output_type": "execute_result"
    }
   ],
   "source": [
    "confusion_matrix(y_test,cust_pred)"
   ]
  },
  {
   "cell_type": "code",
   "execution_count": 20,
   "metadata": {},
   "outputs": [
    {
     "data": {
      "text/html": [
       "<div>\n",
       "<style scoped>\n",
       "    .dataframe tbody tr th:only-of-type {\n",
       "        vertical-align: middle;\n",
       "    }\n",
       "\n",
       "    .dataframe tbody tr th {\n",
       "        vertical-align: top;\n",
       "    }\n",
       "\n",
       "    .dataframe thead th {\n",
       "        text-align: right;\n",
       "    }\n",
       "</style>\n",
       "<table border=\"1\" class=\"dataframe\">\n",
       "  <thead>\n",
       "    <tr style=\"text-align: right;\">\n",
       "      <th></th>\n",
       "      <th></th>\n",
       "      <th>precision</th>\n",
       "      <th>recall</th>\n",
       "      <th>f1-score</th>\n",
       "      <th>support</th>\n",
       "    </tr>\n",
       "  </thead>\n",
       "  <tbody>\n",
       "    <tr>\n",
       "      <th>0</th>\n",
       "      <td>1</td>\n",
       "      <td>0.811497</td>\n",
       "      <td>0.762563</td>\n",
       "      <td>0.786269</td>\n",
       "      <td>796</td>\n",
       "    </tr>\n",
       "    <tr>\n",
       "      <th>1</th>\n",
       "      <td>0</td>\n",
       "      <td>0.778169</td>\n",
       "      <td>0.824627</td>\n",
       "      <td>0.800725</td>\n",
       "      <td>804</td>\n",
       "    </tr>\n",
       "    <tr>\n",
       "      <th>2</th>\n",
       "      <td>accuracy</td>\n",
       "      <td></td>\n",
       "      <td></td>\n",
       "      <td>0.793750</td>\n",
       "      <td>1600</td>\n",
       "    </tr>\n",
       "    <tr>\n",
       "      <th>3</th>\n",
       "      <td>macro average</td>\n",
       "      <td>0.794833</td>\n",
       "      <td>0.793595</td>\n",
       "      <td>0.793497</td>\n",
       "      <td>1600</td>\n",
       "    </tr>\n",
       "    <tr>\n",
       "      <th>4</th>\n",
       "      <td>weighted average</td>\n",
       "      <td>0.79475</td>\n",
       "      <td>0.79375</td>\n",
       "      <td>0.793461</td>\n",
       "      <td>1600</td>\n",
       "    </tr>\n",
       "  </tbody>\n",
       "</table>\n",
       "</div>"
      ],
      "text/plain": [
       "                    precision    recall  f1-score  support\n",
       "0                 1  0.811497  0.762563  0.786269      796\n",
       "1                 0  0.778169  0.824627  0.800725      804\n",
       "2          accuracy                      0.793750     1600\n",
       "3     macro average  0.794833  0.793595  0.793497     1600\n",
       "4  weighted average   0.79475   0.79375  0.793461     1600"
      ]
     },
     "execution_count": 20,
     "metadata": {},
     "output_type": "execute_result"
    }
   ],
   "source": [
    "# summary_report(y_test,cust_pred).to_excel('RandomForestCustom.xlsx')\n",
    "summary_report(y_test,cust_pred)"
   ]
  },
  {
   "cell_type": "code",
   "execution_count": 90,
   "metadata": {},
   "outputs": [],
   "source": [
    "search_space={'n_estimators':np.array(range(100,150,10))}"
   ]
  },
  {
   "cell_type": "code",
   "execution_count": 91,
   "metadata": {},
   "outputs": [],
   "source": [
    "GS=GridSearchCV(estimator=CustomRandomForest(),\n",
    "                param_grid=search_space,\n",
    "                scoring='accuracy',\n",
    "                cv=5,\n",
    "                n_jobs=6\n",
    "                )"
   ]
  },
  {
   "cell_type": "code",
   "execution_count": 87,
   "metadata": {},
   "outputs": [
    {
     "data": {
      "text/plain": [
       "{'bootstrap': True,\n",
       " 'ccp_alpha': 0.0,\n",
       " 'class_weight': None,\n",
       " 'criterion': 'gini',\n",
       " 'max_depth': None,\n",
       " 'max_features': 'sqrt',\n",
       " 'max_leaf_nodes': None,\n",
       " 'max_samples': None,\n",
       " 'min_impurity_decrease': 0.0,\n",
       " 'min_samples_leaf': 1,\n",
       " 'min_samples_split': 2,\n",
       " 'min_weight_fraction_leaf': 0.0,\n",
       " 'n_estimators': 130,\n",
       " 'n_jobs': None,\n",
       " 'oob_score': False,\n",
       " 'random_state': None,\n",
       " 'verbose': 0,\n",
       " 'warm_start': False}"
      ]
     },
     "execution_count": 87,
     "metadata": {},
     "output_type": "execute_result"
    }
   ],
   "source": [
    "GS.best_estimator_.get_params()"
   ]
  },
  {
   "cell_type": "code",
   "execution_count": 86,
   "metadata": {},
   "outputs": [
    {
     "name": "stdout",
     "output_type": "stream",
     "text": [
      "[[655 134]\n",
      " [141 670]]\n"
     ]
    },
    {
     "data": {
      "text/html": [
       "<div>\n",
       "<style scoped>\n",
       "    .dataframe tbody tr th:only-of-type {\n",
       "        vertical-align: middle;\n",
       "    }\n",
       "\n",
       "    .dataframe tbody tr th {\n",
       "        vertical-align: top;\n",
       "    }\n",
       "\n",
       "    .dataframe thead th {\n",
       "        text-align: right;\n",
       "    }\n",
       "</style>\n",
       "<table border=\"1\" class=\"dataframe\">\n",
       "  <thead>\n",
       "    <tr style=\"text-align: right;\">\n",
       "      <th></th>\n",
       "      <th></th>\n",
       "      <th>precision</th>\n",
       "      <th>recall</th>\n",
       "      <th>f1-score</th>\n",
       "      <th>support</th>\n",
       "    </tr>\n",
       "  </thead>\n",
       "  <tbody>\n",
       "    <tr>\n",
       "      <th>0</th>\n",
       "      <td>1</td>\n",
       "      <td>0.830165</td>\n",
       "      <td>0.822864</td>\n",
       "      <td>0.826498</td>\n",
       "      <td>796</td>\n",
       "    </tr>\n",
       "    <tr>\n",
       "      <th>1</th>\n",
       "      <td>0</td>\n",
       "      <td>0.826141</td>\n",
       "      <td>0.833333</td>\n",
       "      <td>0.829721</td>\n",
       "      <td>804</td>\n",
       "    </tr>\n",
       "    <tr>\n",
       "      <th>2</th>\n",
       "      <td>accuracy</td>\n",
       "      <td></td>\n",
       "      <td></td>\n",
       "      <td>0.828125</td>\n",
       "      <td>1600</td>\n",
       "    </tr>\n",
       "    <tr>\n",
       "      <th>3</th>\n",
       "      <td>macro average</td>\n",
       "      <td>0.828153</td>\n",
       "      <td>0.828099</td>\n",
       "      <td>0.828110</td>\n",
       "      <td>1600</td>\n",
       "    </tr>\n",
       "    <tr>\n",
       "      <th>4</th>\n",
       "      <td>weighted average</td>\n",
       "      <td>0.828143</td>\n",
       "      <td>0.828125</td>\n",
       "      <td>0.828102</td>\n",
       "      <td>1600</td>\n",
       "    </tr>\n",
       "  </tbody>\n",
       "</table>\n",
       "</div>"
      ],
      "text/plain": [
       "                    precision    recall  f1-score  support\n",
       "0                 1  0.830165  0.822864  0.826498      796\n",
       "1                 0  0.826141  0.833333  0.829721      804\n",
       "2          accuracy                      0.828125     1600\n",
       "3     macro average  0.828153  0.828099  0.828110     1600\n",
       "4  weighted average  0.828143  0.828125  0.828102     1600"
      ]
     },
     "execution_count": 86,
     "metadata": {},
     "output_type": "execute_result"
    }
   ],
   "source": [
    "new_custrf=GS.best_estimator_\n",
    "y_pred=new_custrf.predict(X_test)\n",
    "print(confusion_matrix(y_test,y_pred))\n",
    "summary_report(y_test,y_pred)"
   ]
  },
  {
   "cell_type": "code",
   "execution_count": 88,
   "metadata": {},
   "outputs": [],
   "source": [
    "# pickle.dump(new_custrf,open('classifier_RandomForestCustom.pkl','wb'))"
   ]
  },
  {
   "cell_type": "markdown",
   "metadata": {},
   "source": [
    "# Custom test input"
   ]
  },
  {
   "cell_type": "code",
   "execution_count": 128,
   "metadata": {},
   "outputs": [],
   "source": [
    "review='The movie was uninteresting'"
   ]
  },
  {
   "cell_type": "code",
   "execution_count": 129,
   "metadata": {},
   "outputs": [
    {
     "name": "stdout",
     "output_type": "stream",
     "text": [
      "The review was negative\n"
     ]
    }
   ],
   "source": [
    "# review='This movie was not interesting. It could have been more entertaining. This was a total waste of time.'\n",
    "# review='This movie was interesting. It was fun.'\n",
    "print(f'The review was {\"positive\" if (text_classifier.predict(vectorizer.transform([review].__iter__()))) else \"negative\"}')"
   ]
  }
 ],
 "metadata": {
  "kernelspec": {
   "display_name": "base",
   "language": "python",
   "name": "python3"
  },
  "language_info": {
   "codemirror_mode": {
    "name": "ipython",
    "version": 3
   },
   "file_extension": ".py",
   "mimetype": "text/x-python",
   "name": "python",
   "nbconvert_exporter": "python",
   "pygments_lexer": "ipython3",
   "version": "3.11.7"
  }
 },
 "nbformat": 4,
 "nbformat_minor": 2
}
